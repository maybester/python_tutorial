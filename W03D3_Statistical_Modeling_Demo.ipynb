{
  "cells": [
    {
      "cell_type": "markdown",
      "metadata": {
        "id": "view-in-github",
        "colab_type": "text"
      },
      "source": [
        "<a href=\"https://colab.research.google.com/github/maybester/python_tutorial/blob/main/W03D3_Statistical_Modeling_Demo.ipynb\" target=\"_parent\"><img src=\"https://colab.research.google.com/assets/colab-badge.svg\" alt=\"Open In Colab\"/></a>"
      ]
    },
    {
      "cell_type": "markdown",
      "metadata": {
        "id": "7EWKpMmiDl1C"
      },
      "source": [
        "# Statistical Modeling Demo\n",
        "\n",
        "(Notebook Credit Jeremy Eng)"
      ]
    },
    {
      "cell_type": "markdown",
      "metadata": {
        "id": "xORtmiWcDl1G"
      },
      "source": [
        "## Introduction\n",
        "In this notebook, we will demo how to create linear and logistic regression models using the [statsmodels package](https://www.statsmodels.org/stable/index.html), and we will also cover how to interpret the output.\n",
        "\n",
        "### Outline\n",
        "1. Statsmodels installation\n",
        "2. Loading the datatset\n",
        "3. Simple Linear Regression\n",
        "4. Multiple Linear Regression\n",
        "5. Logistic Regression"
      ]
    },
    {
      "cell_type": "markdown",
      "metadata": {
        "id": "1J49LptZDl1G"
      },
      "source": [
        "## Statsmodels Installation\n",
        "Make sure the statsmodels package is installed if it isn't already. Like most packages, it can be installed:\n",
        "- using pip: `pip install statsmodels`\n",
        "- or conda: `conda install -c conda-forge statsmodels`"
      ]
    },
    {
      "cell_type": "code",
      "execution_count": null,
      "metadata": {
        "id": "1CDAeEstDl1G"
      },
      "outputs": [],
      "source": [
        "# !pip install statsmodels"
      ]
    },
    {
      "cell_type": "markdown",
      "metadata": {
        "id": "on0rrow_Dl1I"
      },
      "source": [
        "## Load and view the dataset\n",
        "\n",
        "We will work with \"Duncan's Occupation Prestige Data\". We can view its documentation [here](https://rdrr.io/cran/carData/man/Duncan.html). We can load it using statsmodels's `get_rdatasets` method. Notice it has one categorical variable and three numerical variables."
      ]
    },
    {
      "cell_type": "code",
      "execution_count": null,
      "metadata": {
        "scrolled": true,
        "id": "r6-Q-4MmDl1I",
        "outputId": "9e5f58c8-7e44-480a-abf6-9c0b8e3ea96c",
        "colab": {
          "base_uri": "https://localhost:8080/",
          "height": 1000
        }
      },
      "outputs": [
        {
          "output_type": "execute_result",
          "data": {
            "text/plain": [
              "                    type  income  education  prestige\n",
              "accountant          prof      62         86        82\n",
              "pilot               prof      72         76        83\n",
              "architect           prof      75         92        90\n",
              "author              prof      55         90        76\n",
              "chemist             prof      64         86        90\n",
              "minister            prof      21         84        87\n",
              "professor           prof      64         93        93\n",
              "dentist             prof      80        100        90\n",
              "reporter              wc      67         87        52\n",
              "engineer            prof      72         86        88\n",
              "undertaker          prof      42         74        57\n",
              "lawyer              prof      76         98        89\n",
              "physician           prof      76         97        97\n",
              "welfare.worker      prof      41         84        59\n",
              "teacher             prof      48         91        73\n",
              "conductor             wc      76         34        38\n",
              "contractor          prof      53         45        76\n",
              "factory.owner       prof      60         56        81\n",
              "store.manager       prof      42         44        45\n",
              "banker              prof      78         82        92\n",
              "bookkeeper            wc      29         72        39\n",
              "mail.carrier          wc      48         55        34\n",
              "insurance.agent       wc      55         71        41\n",
              "store.clerk           wc      29         50        16\n",
              "carpenter             bc      21         23        33\n",
              "electrician           bc      47         39        53\n",
              "RR.engineer           bc      81         28        67\n",
              "machinist             bc      36         32        57\n",
              "auto.repairman        bc      22         22        26\n",
              "plumber               bc      44         25        29\n",
              "gas.stn.attendant     bc      15         29        10\n",
              "coal.miner            bc       7          7        15\n",
              "streetcar.motorman    bc      42         26        19\n",
              "taxi.driver           bc       9         19        10\n",
              "truck.driver          bc      21         15        13\n",
              "machine.operator      bc      21         20        24\n",
              "barber                bc      16         26        20\n",
              "bartender             bc      16         28         7\n",
              "shoe.shiner           bc       9         17         3\n",
              "cook                  bc      14         22        16\n",
              "soda.clerk            bc      12         30         6\n",
              "watchman              bc      17         25        11\n",
              "janitor               bc       7         20         8\n",
              "policeman             bc      34         47        41\n",
              "waiter                bc       8         32        10"
            ],
            "text/html": [
              "\n",
              "  <div id=\"df-50964b58-7399-4bc4-b68f-9dcb18753c5c\">\n",
              "    <div class=\"colab-df-container\">\n",
              "      <div>\n",
              "<style scoped>\n",
              "    .dataframe tbody tr th:only-of-type {\n",
              "        vertical-align: middle;\n",
              "    }\n",
              "\n",
              "    .dataframe tbody tr th {\n",
              "        vertical-align: top;\n",
              "    }\n",
              "\n",
              "    .dataframe thead th {\n",
              "        text-align: right;\n",
              "    }\n",
              "</style>\n",
              "<table border=\"1\" class=\"dataframe\">\n",
              "  <thead>\n",
              "    <tr style=\"text-align: right;\">\n",
              "      <th></th>\n",
              "      <th>type</th>\n",
              "      <th>income</th>\n",
              "      <th>education</th>\n",
              "      <th>prestige</th>\n",
              "    </tr>\n",
              "  </thead>\n",
              "  <tbody>\n",
              "    <tr>\n",
              "      <th>accountant</th>\n",
              "      <td>prof</td>\n",
              "      <td>62</td>\n",
              "      <td>86</td>\n",
              "      <td>82</td>\n",
              "    </tr>\n",
              "    <tr>\n",
              "      <th>pilot</th>\n",
              "      <td>prof</td>\n",
              "      <td>72</td>\n",
              "      <td>76</td>\n",
              "      <td>83</td>\n",
              "    </tr>\n",
              "    <tr>\n",
              "      <th>architect</th>\n",
              "      <td>prof</td>\n",
              "      <td>75</td>\n",
              "      <td>92</td>\n",
              "      <td>90</td>\n",
              "    </tr>\n",
              "    <tr>\n",
              "      <th>author</th>\n",
              "      <td>prof</td>\n",
              "      <td>55</td>\n",
              "      <td>90</td>\n",
              "      <td>76</td>\n",
              "    </tr>\n",
              "    <tr>\n",
              "      <th>chemist</th>\n",
              "      <td>prof</td>\n",
              "      <td>64</td>\n",
              "      <td>86</td>\n",
              "      <td>90</td>\n",
              "    </tr>\n",
              "    <tr>\n",
              "      <th>minister</th>\n",
              "      <td>prof</td>\n",
              "      <td>21</td>\n",
              "      <td>84</td>\n",
              "      <td>87</td>\n",
              "    </tr>\n",
              "    <tr>\n",
              "      <th>professor</th>\n",
              "      <td>prof</td>\n",
              "      <td>64</td>\n",
              "      <td>93</td>\n",
              "      <td>93</td>\n",
              "    </tr>\n",
              "    <tr>\n",
              "      <th>dentist</th>\n",
              "      <td>prof</td>\n",
              "      <td>80</td>\n",
              "      <td>100</td>\n",
              "      <td>90</td>\n",
              "    </tr>\n",
              "    <tr>\n",
              "      <th>reporter</th>\n",
              "      <td>wc</td>\n",
              "      <td>67</td>\n",
              "      <td>87</td>\n",
              "      <td>52</td>\n",
              "    </tr>\n",
              "    <tr>\n",
              "      <th>engineer</th>\n",
              "      <td>prof</td>\n",
              "      <td>72</td>\n",
              "      <td>86</td>\n",
              "      <td>88</td>\n",
              "    </tr>\n",
              "    <tr>\n",
              "      <th>undertaker</th>\n",
              "      <td>prof</td>\n",
              "      <td>42</td>\n",
              "      <td>74</td>\n",
              "      <td>57</td>\n",
              "    </tr>\n",
              "    <tr>\n",
              "      <th>lawyer</th>\n",
              "      <td>prof</td>\n",
              "      <td>76</td>\n",
              "      <td>98</td>\n",
              "      <td>89</td>\n",
              "    </tr>\n",
              "    <tr>\n",
              "      <th>physician</th>\n",
              "      <td>prof</td>\n",
              "      <td>76</td>\n",
              "      <td>97</td>\n",
              "      <td>97</td>\n",
              "    </tr>\n",
              "    <tr>\n",
              "      <th>welfare.worker</th>\n",
              "      <td>prof</td>\n",
              "      <td>41</td>\n",
              "      <td>84</td>\n",
              "      <td>59</td>\n",
              "    </tr>\n",
              "    <tr>\n",
              "      <th>teacher</th>\n",
              "      <td>prof</td>\n",
              "      <td>48</td>\n",
              "      <td>91</td>\n",
              "      <td>73</td>\n",
              "    </tr>\n",
              "    <tr>\n",
              "      <th>conductor</th>\n",
              "      <td>wc</td>\n",
              "      <td>76</td>\n",
              "      <td>34</td>\n",
              "      <td>38</td>\n",
              "    </tr>\n",
              "    <tr>\n",
              "      <th>contractor</th>\n",
              "      <td>prof</td>\n",
              "      <td>53</td>\n",
              "      <td>45</td>\n",
              "      <td>76</td>\n",
              "    </tr>\n",
              "    <tr>\n",
              "      <th>factory.owner</th>\n",
              "      <td>prof</td>\n",
              "      <td>60</td>\n",
              "      <td>56</td>\n",
              "      <td>81</td>\n",
              "    </tr>\n",
              "    <tr>\n",
              "      <th>store.manager</th>\n",
              "      <td>prof</td>\n",
              "      <td>42</td>\n",
              "      <td>44</td>\n",
              "      <td>45</td>\n",
              "    </tr>\n",
              "    <tr>\n",
              "      <th>banker</th>\n",
              "      <td>prof</td>\n",
              "      <td>78</td>\n",
              "      <td>82</td>\n",
              "      <td>92</td>\n",
              "    </tr>\n",
              "    <tr>\n",
              "      <th>bookkeeper</th>\n",
              "      <td>wc</td>\n",
              "      <td>29</td>\n",
              "      <td>72</td>\n",
              "      <td>39</td>\n",
              "    </tr>\n",
              "    <tr>\n",
              "      <th>mail.carrier</th>\n",
              "      <td>wc</td>\n",
              "      <td>48</td>\n",
              "      <td>55</td>\n",
              "      <td>34</td>\n",
              "    </tr>\n",
              "    <tr>\n",
              "      <th>insurance.agent</th>\n",
              "      <td>wc</td>\n",
              "      <td>55</td>\n",
              "      <td>71</td>\n",
              "      <td>41</td>\n",
              "    </tr>\n",
              "    <tr>\n",
              "      <th>store.clerk</th>\n",
              "      <td>wc</td>\n",
              "      <td>29</td>\n",
              "      <td>50</td>\n",
              "      <td>16</td>\n",
              "    </tr>\n",
              "    <tr>\n",
              "      <th>carpenter</th>\n",
              "      <td>bc</td>\n",
              "      <td>21</td>\n",
              "      <td>23</td>\n",
              "      <td>33</td>\n",
              "    </tr>\n",
              "    <tr>\n",
              "      <th>electrician</th>\n",
              "      <td>bc</td>\n",
              "      <td>47</td>\n",
              "      <td>39</td>\n",
              "      <td>53</td>\n",
              "    </tr>\n",
              "    <tr>\n",
              "      <th>RR.engineer</th>\n",
              "      <td>bc</td>\n",
              "      <td>81</td>\n",
              "      <td>28</td>\n",
              "      <td>67</td>\n",
              "    </tr>\n",
              "    <tr>\n",
              "      <th>machinist</th>\n",
              "      <td>bc</td>\n",
              "      <td>36</td>\n",
              "      <td>32</td>\n",
              "      <td>57</td>\n",
              "    </tr>\n",
              "    <tr>\n",
              "      <th>auto.repairman</th>\n",
              "      <td>bc</td>\n",
              "      <td>22</td>\n",
              "      <td>22</td>\n",
              "      <td>26</td>\n",
              "    </tr>\n",
              "    <tr>\n",
              "      <th>plumber</th>\n",
              "      <td>bc</td>\n",
              "      <td>44</td>\n",
              "      <td>25</td>\n",
              "      <td>29</td>\n",
              "    </tr>\n",
              "    <tr>\n",
              "      <th>gas.stn.attendant</th>\n",
              "      <td>bc</td>\n",
              "      <td>15</td>\n",
              "      <td>29</td>\n",
              "      <td>10</td>\n",
              "    </tr>\n",
              "    <tr>\n",
              "      <th>coal.miner</th>\n",
              "      <td>bc</td>\n",
              "      <td>7</td>\n",
              "      <td>7</td>\n",
              "      <td>15</td>\n",
              "    </tr>\n",
              "    <tr>\n",
              "      <th>streetcar.motorman</th>\n",
              "      <td>bc</td>\n",
              "      <td>42</td>\n",
              "      <td>26</td>\n",
              "      <td>19</td>\n",
              "    </tr>\n",
              "    <tr>\n",
              "      <th>taxi.driver</th>\n",
              "      <td>bc</td>\n",
              "      <td>9</td>\n",
              "      <td>19</td>\n",
              "      <td>10</td>\n",
              "    </tr>\n",
              "    <tr>\n",
              "      <th>truck.driver</th>\n",
              "      <td>bc</td>\n",
              "      <td>21</td>\n",
              "      <td>15</td>\n",
              "      <td>13</td>\n",
              "    </tr>\n",
              "    <tr>\n",
              "      <th>machine.operator</th>\n",
              "      <td>bc</td>\n",
              "      <td>21</td>\n",
              "      <td>20</td>\n",
              "      <td>24</td>\n",
              "    </tr>\n",
              "    <tr>\n",
              "      <th>barber</th>\n",
              "      <td>bc</td>\n",
              "      <td>16</td>\n",
              "      <td>26</td>\n",
              "      <td>20</td>\n",
              "    </tr>\n",
              "    <tr>\n",
              "      <th>bartender</th>\n",
              "      <td>bc</td>\n",
              "      <td>16</td>\n",
              "      <td>28</td>\n",
              "      <td>7</td>\n",
              "    </tr>\n",
              "    <tr>\n",
              "      <th>shoe.shiner</th>\n",
              "      <td>bc</td>\n",
              "      <td>9</td>\n",
              "      <td>17</td>\n",
              "      <td>3</td>\n",
              "    </tr>\n",
              "    <tr>\n",
              "      <th>cook</th>\n",
              "      <td>bc</td>\n",
              "      <td>14</td>\n",
              "      <td>22</td>\n",
              "      <td>16</td>\n",
              "    </tr>\n",
              "    <tr>\n",
              "      <th>soda.clerk</th>\n",
              "      <td>bc</td>\n",
              "      <td>12</td>\n",
              "      <td>30</td>\n",
              "      <td>6</td>\n",
              "    </tr>\n",
              "    <tr>\n",
              "      <th>watchman</th>\n",
              "      <td>bc</td>\n",
              "      <td>17</td>\n",
              "      <td>25</td>\n",
              "      <td>11</td>\n",
              "    </tr>\n",
              "    <tr>\n",
              "      <th>janitor</th>\n",
              "      <td>bc</td>\n",
              "      <td>7</td>\n",
              "      <td>20</td>\n",
              "      <td>8</td>\n",
              "    </tr>\n",
              "    <tr>\n",
              "      <th>policeman</th>\n",
              "      <td>bc</td>\n",
              "      <td>34</td>\n",
              "      <td>47</td>\n",
              "      <td>41</td>\n",
              "    </tr>\n",
              "    <tr>\n",
              "      <th>waiter</th>\n",
              "      <td>bc</td>\n",
              "      <td>8</td>\n",
              "      <td>32</td>\n",
              "      <td>10</td>\n",
              "    </tr>\n",
              "  </tbody>\n",
              "</table>\n",
              "</div>\n",
              "      <button class=\"colab-df-convert\" onclick=\"convertToInteractive('df-50964b58-7399-4bc4-b68f-9dcb18753c5c')\"\n",
              "              title=\"Convert this dataframe to an interactive table.\"\n",
              "              style=\"display:none;\">\n",
              "        \n",
              "  <svg xmlns=\"http://www.w3.org/2000/svg\" height=\"24px\"viewBox=\"0 0 24 24\"\n",
              "       width=\"24px\">\n",
              "    <path d=\"M0 0h24v24H0V0z\" fill=\"none\"/>\n",
              "    <path d=\"M18.56 5.44l.94 2.06.94-2.06 2.06-.94-2.06-.94-.94-2.06-.94 2.06-2.06.94zm-11 1L8.5 8.5l.94-2.06 2.06-.94-2.06-.94L8.5 2.5l-.94 2.06-2.06.94zm10 10l.94 2.06.94-2.06 2.06-.94-2.06-.94-.94-2.06-.94 2.06-2.06.94z\"/><path d=\"M17.41 7.96l-1.37-1.37c-.4-.4-.92-.59-1.43-.59-.52 0-1.04.2-1.43.59L10.3 9.45l-7.72 7.72c-.78.78-.78 2.05 0 2.83L4 21.41c.39.39.9.59 1.41.59.51 0 1.02-.2 1.41-.59l7.78-7.78 2.81-2.81c.8-.78.8-2.07 0-2.86zM5.41 20L4 18.59l7.72-7.72 1.47 1.35L5.41 20z\"/>\n",
              "  </svg>\n",
              "      </button>\n",
              "      \n",
              "  <style>\n",
              "    .colab-df-container {\n",
              "      display:flex;\n",
              "      flex-wrap:wrap;\n",
              "      gap: 12px;\n",
              "    }\n",
              "\n",
              "    .colab-df-convert {\n",
              "      background-color: #E8F0FE;\n",
              "      border: none;\n",
              "      border-radius: 50%;\n",
              "      cursor: pointer;\n",
              "      display: none;\n",
              "      fill: #1967D2;\n",
              "      height: 32px;\n",
              "      padding: 0 0 0 0;\n",
              "      width: 32px;\n",
              "    }\n",
              "\n",
              "    .colab-df-convert:hover {\n",
              "      background-color: #E2EBFA;\n",
              "      box-shadow: 0px 1px 2px rgba(60, 64, 67, 0.3), 0px 1px 3px 1px rgba(60, 64, 67, 0.15);\n",
              "      fill: #174EA6;\n",
              "    }\n",
              "\n",
              "    [theme=dark] .colab-df-convert {\n",
              "      background-color: #3B4455;\n",
              "      fill: #D2E3FC;\n",
              "    }\n",
              "\n",
              "    [theme=dark] .colab-df-convert:hover {\n",
              "      background-color: #434B5C;\n",
              "      box-shadow: 0px 1px 3px 1px rgba(0, 0, 0, 0.15);\n",
              "      filter: drop-shadow(0px 1px 2px rgba(0, 0, 0, 0.3));\n",
              "      fill: #FFFFFF;\n",
              "    }\n",
              "  </style>\n",
              "\n",
              "      <script>\n",
              "        const buttonEl =\n",
              "          document.querySelector('#df-50964b58-7399-4bc4-b68f-9dcb18753c5c button.colab-df-convert');\n",
              "        buttonEl.style.display =\n",
              "          google.colab.kernel.accessAllowed ? 'block' : 'none';\n",
              "\n",
              "        async function convertToInteractive(key) {\n",
              "          const element = document.querySelector('#df-50964b58-7399-4bc4-b68f-9dcb18753c5c');\n",
              "          const dataTable =\n",
              "            await google.colab.kernel.invokeFunction('convertToInteractive',\n",
              "                                                     [key], {});\n",
              "          if (!dataTable) return;\n",
              "\n",
              "          const docLinkHtml = 'Like what you see? Visit the ' +\n",
              "            '<a target=\"_blank\" href=https://colab.research.google.com/notebooks/data_table.ipynb>data table notebook</a>'\n",
              "            + ' to learn more about interactive tables.';\n",
              "          element.innerHTML = '';\n",
              "          dataTable['output_type'] = 'display_data';\n",
              "          await google.colab.output.renderOutput(dataTable, element);\n",
              "          const docLink = document.createElement('div');\n",
              "          docLink.innerHTML = docLinkHtml;\n",
              "          element.appendChild(docLink);\n",
              "        }\n",
              "      </script>\n",
              "    </div>\n",
              "  </div>\n",
              "  "
            ]
          },
          "metadata": {},
          "execution_count": 1
        }
      ],
      "source": [
        "import statsmodels.api as sm\n",
        "import pandas as pd\n",
        "\n",
        "duncan_data = sm.datasets.get_rdataset(\"Duncan\", \"carData\")\n",
        "df = duncan_data.data\n",
        "df"
      ]
    },
    {
      "cell_type": "markdown",
      "metadata": {
        "id": "XPUUbrBGDl1J"
      },
      "source": [
        "Let's use seaborn's `pairplot` to informally check if there is linearity between the numerical variables."
      ]
    },
    {
      "cell_type": "code",
      "execution_count": null,
      "metadata": {
        "scrolled": false,
        "id": "Uf6IehOkDl1J",
        "outputId": "58f19cef-38e6-4c00-eaf2-ebef61b6f3fa",
        "colab": {
          "base_uri": "https://localhost:8080/",
          "height": 758
        }
      },
      "outputs": [
        {
          "output_type": "display_data",
          "data": {
            "text/plain": [
              "<Figure size 750x750 with 12 Axes>"
            ],
            "image/png": "[encoded data removed]"
          },
          "metadata": {}
        }
      ],
      "source": [
        "import matplotlib.pyplot as plt\n",
        "import seaborn as sns\n",
        "\n",
        "sns.pairplot(data=df)\n",
        "plt.show()"
      ]
    },
    {
      "cell_type": "markdown",
      "metadata": {
        "id": "KSuHYJU6Dl1K"
      },
      "source": [
        "It seems like all three numerical variables are positively correlated with one another. Let's check this by looking at the correlations."
      ]
    },
    {
      "cell_type": "code",
      "execution_count": null,
      "metadata": {
        "scrolled": true,
        "id": "zzwkWq-DDl1K",
        "outputId": "53710a5d-f449-413b-d7ea-9622d19532be",
        "colab": {
          "base_uri": "https://localhost:8080/",
          "height": 143
        }
      },
      "outputs": [
        {
          "output_type": "execute_result",
          "data": {
            "text/plain": [
              "             income  education  prestige\n",
              "income     1.000000   0.724512  0.837801\n",
              "education  0.724512   1.000000  0.851916\n",
              "prestige   0.837801   0.851916  1.000000"
            ],
            "text/html": [
              "\n",
              "  <div id=\"df-58b9d32f-c0c2-4018-9d58-f85edc222d3d\">\n",
              "    <div class=\"colab-df-container\">\n",
              "      <div>\n",
              "<style scoped>\n",
              "    .dataframe tbody tr th:only-of-type {\n",
              "        vertical-align: middle;\n",
              "    }\n",
              "\n",
              "    .dataframe tbody tr th {\n",
              "        vertical-align: top;\n",
              "    }\n",
              "\n",
              "    .dataframe thead th {\n",
              "        text-align: right;\n",
              "    }\n",
              "</style>\n",
              "<table border=\"1\" class=\"dataframe\">\n",
              "  <thead>\n",
              "    <tr style=\"text-align: right;\">\n",
              "      <th></th>\n",
              "      <th>income</th>\n",
              "      <th>education</th>\n",
              "      <th>prestige</th>\n",
              "    </tr>\n",
              "  </thead>\n",
              "  <tbody>\n",
              "    <tr>\n",
              "      <th>income</th>\n",
              "      <td>1.000000</td>\n",
              "      <td>0.724512</td>\n",
              "      <td>0.837801</td>\n",
              "    </tr>\n",
              "    <tr>\n",
              "      <th>education</th>\n",
              "      <td>0.724512</td>\n",
              "      <td>1.000000</td>\n",
              "      <td>0.851916</td>\n",
              "    </tr>\n",
              "    <tr>\n",
              "      <th>prestige</th>\n",
              "      <td>0.837801</td>\n",
              "      <td>0.851916</td>\n",
              "      <td>1.000000</td>\n",
              "    </tr>\n",
              "  </tbody>\n",
              "</table>\n",
              "</div>\n",
              "      <button class=\"colab-df-convert\" onclick=\"convertToInteractive('df-58b9d32f-c0c2-4018-9d58-f85edc222d3d')\"\n",
              "              title=\"Convert this dataframe to an interactive table.\"\n",
              "              style=\"display:none;\">\n",
              "        \n",
              "  <svg xmlns=\"http://www.w3.org/2000/svg\" height=\"24px\"viewBox=\"0 0 24 24\"\n",
              "       width=\"24px\">\n",
              "    <path d=\"M0 0h24v24H0V0z\" fill=\"none\"/>\n",
              "    <path d=\"M18.56 5.44l.94 2.06.94-2.06 2.06-.94-2.06-.94-.94-2.06-.94 2.06-2.06.94zm-11 1L8.5 8.5l.94-2.06 2.06-.94-2.06-.94L8.5 2.5l-.94 2.06-2.06.94zm10 10l.94 2.06.94-2.06 2.06-.94-2.06-.94-.94-2.06-.94 2.06-2.06.94z\"/><path d=\"M17.41 7.96l-1.37-1.37c-.4-.4-.92-.59-1.43-.59-.52 0-1.04.2-1.43.59L10.3 9.45l-7.72 7.72c-.78.78-.78 2.05 0 2.83L4 21.41c.39.39.9.59 1.41.59.51 0 1.02-.2 1.41-.59l7.78-7.78 2.81-2.81c.8-.78.8-2.07 0-2.86zM5.41 20L4 18.59l7.72-7.72 1.47 1.35L5.41 20z\"/>\n",
              "  </svg>\n",
              "      </button>\n",
              "      \n",
              "  <style>\n",
              "    .colab-df-container {\n",
              "      display:flex;\n",
              "      flex-wrap:wrap;\n",
              "      gap: 12px;\n",
              "    }\n",
              "\n",
              "    .colab-df-convert {\n",
              "      background-color: #E8F0FE;\n",
              "      border: none;\n",
              "      border-radius: 50%;\n",
              "      cursor: pointer;\n",
              "      display: none;\n",
              "      fill: #1967D2;\n",
              "      height: 32px;\n",
              "      padding: 0 0 0 0;\n",
              "      width: 32px;\n",
              "    }\n",
              "\n",
              "    .colab-df-convert:hover {\n",
              "      background-color: #E2EBFA;\n",
              "      box-shadow: 0px 1px 2px rgba(60, 64, 67, 0.3), 0px 1px 3px 1px rgba(60, 64, 67, 0.15);\n",
              "      fill: #174EA6;\n",
              "    }\n",
              "\n",
              "    [theme=dark] .colab-df-convert {\n",
              "      background-color: #3B4455;\n",
              "      fill: #D2E3FC;\n",
              "    }\n",
              "\n",
              "    [theme=dark] .colab-df-convert:hover {\n",
              "      background-color: #434B5C;\n",
              "      box-shadow: 0px 1px 3px 1px rgba(0, 0, 0, 0.15);\n",
              "      filter: drop-shadow(0px 1px 2px rgba(0, 0, 0, 0.3));\n",
              "      fill: #FFFFFF;\n",
              "    }\n",
              "  </style>\n",
              "\n",
              "      <script>\n",
              "        const buttonEl =\n",
              "          document.querySelector('#df-58b9d32f-c0c2-4018-9d58-f85edc222d3d button.colab-df-convert');\n",
              "        buttonEl.style.display =\n",
              "          google.colab.kernel.accessAllowed ? 'block' : 'none';\n",
              "\n",
              "        async function convertToInteractive(key) {\n",
              "          const element = document.querySelector('#df-58b9d32f-c0c2-4018-9d58-f85edc222d3d');\n",
              "          const dataTable =\n",
              "            await google.colab.kernel.invokeFunction('convertToInteractive',\n",
              "                                                     [key], {});\n",
              "          if (!dataTable) return;\n",
              "\n",
              "          const docLinkHtml = 'Like what you see? Visit the ' +\n",
              "            '<a target=\"_blank\" href=https://colab.research.google.com/notebooks/data_table.ipynb>data table notebook</a>'\n",
              "            + ' to learn more about interactive tables.';\n",
              "          element.innerHTML = '';\n",
              "          dataTable['output_type'] = 'display_data';\n",
              "          await google.colab.output.renderOutput(dataTable, element);\n",
              "          const docLink = document.createElement('div');\n",
              "          docLink.innerHTML = docLinkHtml;\n",
              "          element.appendChild(docLink);\n",
              "        }\n",
              "      </script>\n",
              "    </div>\n",
              "  </div>\n",
              "  "
            ]
          },
          "metadata": {},
          "execution_count": 4
        }
      ],
      "source": [
        "df.corr()"
      ]
    },
    {
      "cell_type": "markdown",
      "metadata": {
        "id": "JkhYjxH_Dl1K"
      },
      "source": [
        "We can formally check if the correlations are significant by using Pearson's correlation coefficient test."
      ]
    },
    {
      "cell_type": "code",
      "execution_count": null,
      "metadata": {
        "id": "_CQJ4zAwDl1K",
        "outputId": "12a72c40-c35e-432e-8206-427b0e1828f8",
        "colab": {
          "base_uri": "https://localhost:8080/"
        }
      },
      "outputs": [
        {
          "output_type": "stream",
          "name": "stdout",
          "text": [
            "1.83994641852091e-08 7.144355594290168e-13 1.1708786264586817e-13\n"
          ]
        }
      ],
      "source": [
        "import scipy\n",
        "\n",
        "stat, p1 = scipy.stats.pearsonr(df['income'], df['education'])\n",
        "stat, p2 = scipy.stats.pearsonr(df['income'], df['prestige'])\n",
        "stat, p3 = scipy.stats.pearsonr(df['education'], df['prestige'])\n",
        "print(p1, p2, p3)"
      ]
    },
    {
      "cell_type": "markdown",
      "metadata": {
        "id": "tWPvBijUDl1K"
      },
      "source": [
        "All p-values are <0.05, so we can conclude we have significant correlation.\n",
        "\n",
        "For this example, let's treat **prestige** as our **dependent variable**, and income and education will be our independent variables.\n",
        "\n",
        ">Do you see a problem with any of the linear regression assumptions yet?\n",
        ">- Linearity\n",
        ">- Independence\n",
        ">- Homoscedasticity\n",
        ">- Normality\n",
        ">- Multicollinearity (for Multivariant Linear Regression)\n",
        "\n",
        "We can check our assumptions later after we fit a linear regression model by examining the residuals."
      ]
    },
    {
      "cell_type": "markdown",
      "metadata": {
        "id": "4Ar-oN0GDl1L"
      },
      "source": [
        "## Simple Linear Regression\n",
        "\n",
        "Simple linear regression consists of one continuous dependent variable and one independent variable. Let's use **prestige** as our dependent variable ($y$) and **income** as our independent variable ($x$). Simple linear regression models use the relationship:\n",
        "\n",
        "$$\n",
        "y=mx+b\n",
        "$$\n",
        "\n",
        "> Note that if we want an intercept ($b$) in a statsmodels OLS model, we need to use the statsmodels's `add_constant` function, prior to fitting the model (as shown below)."
      ]
    },
    {
      "cell_type": "code",
      "execution_count": null,
      "metadata": {
        "scrolled": true,
        "id": "WGCjtwzgDl1M",
        "outputId": "338729bd-522d-4d4d-d02e-e43f982afc61",
        "colab": {
          "base_uri": "https://localhost:8080/",
          "height": 206
        }
      },
      "outputs": [
        {
          "output_type": "execute_result",
          "data": {
            "text/plain": [
              "            const  income\n",
              "accountant    1.0      62\n",
              "pilot         1.0      72\n",
              "architect     1.0      75\n",
              "author        1.0      55\n",
              "chemist       1.0      64"
            ],
            "text/html": [
              "\n",
              "  <div id=\"df-7baee1b6-c4d6-4eb5-aa13-0c7781038ce6\">\n",
              "    <div class=\"colab-df-container\">\n",
              "      <div>\n",
              "<style scoped>\n",
              "    .dataframe tbody tr th:only-of-type {\n",
              "        vertical-align: middle;\n",
              "    }\n",
              "\n",
              "    .dataframe tbody tr th {\n",
              "        vertical-align: top;\n",
              "    }\n",
              "\n",
              "    .dataframe thead th {\n",
              "        text-align: right;\n",
              "    }\n",
              "</style>\n",
              "<table border=\"1\" class=\"dataframe\">\n",
              "  <thead>\n",
              "    <tr style=\"text-align: right;\">\n",
              "      <th></th>\n",
              "      <th>const</th>\n",
              "      <th>income</th>\n",
              "    </tr>\n",
              "  </thead>\n",
              "  <tbody>\n",
              "    <tr>\n",
              "      <th>accountant</th>\n",
              "      <td>1.0</td>\n",
              "      <td>62</td>\n",
              "    </tr>\n",
              "    <tr>\n",
              "      <th>pilot</th>\n",
              "      <td>1.0</td>\n",
              "      <td>72</td>\n",
              "    </tr>\n",
              "    <tr>\n",
              "      <th>architect</th>\n",
              "      <td>1.0</td>\n",
              "      <td>75</td>\n",
              "    </tr>\n",
              "    <tr>\n",
              "      <th>author</th>\n",
              "      <td>1.0</td>\n",
              "      <td>55</td>\n",
              "    </tr>\n",
              "    <tr>\n",
              "      <th>chemist</th>\n",
              "      <td>1.0</td>\n",
              "      <td>64</td>\n",
              "    </tr>\n",
              "  </tbody>\n",
              "</table>\n",
              "</div>\n",
              "      <button class=\"colab-df-convert\" onclick=\"convertToInteractive('df-7baee1b6-c4d6-4eb5-aa13-0c7781038ce6')\"\n",
              "              title=\"Convert this dataframe to an interactive table.\"\n",
              "              style=\"display:none;\">\n",
              "        \n",
              "  <svg xmlns=\"http://www.w3.org/2000/svg\" height=\"24px\"viewBox=\"0 0 24 24\"\n",
              "       width=\"24px\">\n",
              "    <path d=\"M0 0h24v24H0V0z\" fill=\"none\"/>\n",
              "    <path d=\"M18.56 5.44l.94 2.06.94-2.06 2.06-.94-2.06-.94-.94-2.06-.94 2.06-2.06.94zm-11 1L8.5 8.5l.94-2.06 2.06-.94-2.06-.94L8.5 2.5l-.94 2.06-2.06.94zm10 10l.94 2.06.94-2.06 2.06-.94-2.06-.94-.94-2.06-.94 2.06-2.06.94z\"/><path d=\"M17.41 7.96l-1.37-1.37c-.4-.4-.92-.59-1.43-.59-.52 0-1.04.2-1.43.59L10.3 9.45l-7.72 7.72c-.78.78-.78 2.05 0 2.83L4 21.41c.39.39.9.59 1.41.59.51 0 1.02-.2 1.41-.59l7.78-7.78 2.81-2.81c.8-.78.8-2.07 0-2.86zM5.41 20L4 18.59l7.72-7.72 1.47 1.35L5.41 20z\"/>\n",
              "  </svg>\n",
              "      </button>\n",
              "      \n",
              "  <style>\n",
              "    .colab-df-container {\n",
              "      display:flex;\n",
              "      flex-wrap:wrap;\n",
              "      gap: 12px;\n",
              "    }\n",
              "\n",
              "    .colab-df-convert {\n",
              "      background-color: #E8F0FE;\n",
              "      border: none;\n",
              "      border-radius: 50%;\n",
              "      cursor: pointer;\n",
              "      display: none;\n",
              "      fill: #1967D2;\n",
              "      height: 32px;\n",
              "      padding: 0 0 0 0;\n",
              "      width: 32px;\n",
              "    }\n",
              "\n",
              "    .colab-df-convert:hover {\n",
              "      background-color: #E2EBFA;\n",
              "      box-shadow: 0px 1px 2px rgba(60, 64, 67, 0.3), 0px 1px 3px 1px rgba(60, 64, 67, 0.15);\n",
              "      fill: #174EA6;\n",
              "    }\n",
              "\n",
              "    [theme=dark] .colab-df-convert {\n",
              "      background-color: #3B4455;\n",
              "      fill: #D2E3FC;\n",
              "    }\n",
              "\n",
              "    [theme=dark] .colab-df-convert:hover {\n",
              "      background-color: #434B5C;\n",
              "      box-shadow: 0px 1px 3px 1px rgba(0, 0, 0, 0.15);\n",
              "      filter: drop-shadow(0px 1px 2px rgba(0, 0, 0, 0.3));\n",
              "      fill: #FFFFFF;\n",
              "    }\n",
              "  </style>\n",
              "\n",
              "      <script>\n",
              "        const buttonEl =\n",
              "          document.querySelector('#df-7baee1b6-c4d6-4eb5-aa13-0c7781038ce6 button.colab-df-convert');\n",
              "        buttonEl.style.display =\n",
              "          google.colab.kernel.accessAllowed ? 'block' : 'none';\n",
              "\n",
              "        async function convertToInteractive(key) {\n",
              "          const element = document.querySelector('#df-7baee1b6-c4d6-4eb5-aa13-0c7781038ce6');\n",
              "          const dataTable =\n",
              "            await google.colab.kernel.invokeFunction('convertToInteractive',\n",
              "                                                     [key], {});\n",
              "          if (!dataTable) return;\n",
              "\n",
              "          const docLinkHtml = 'Like what you see? Visit the ' +\n",
              "            '<a target=\"_blank\" href=https://colab.research.google.com/notebooks/data_table.ipynb>data table notebook</a>'\n",
              "            + ' to learn more about interactive tables.';\n",
              "          element.innerHTML = '';\n",
              "          dataTable['output_type'] = 'display_data';\n",
              "          await google.colab.output.renderOutput(dataTable, element);\n",
              "          const docLink = document.createElement('div');\n",
              "          docLink.innerHTML = docLinkHtml;\n",
              "          element.appendChild(docLink);\n",
              "        }\n",
              "      </script>\n",
              "    </div>\n",
              "  </div>\n",
              "  "
            ]
          },
          "metadata": {},
          "execution_count": 8
        }
      ],
      "source": [
        "y = df['prestige']\n",
        "X = df['income']\n",
        "X = sm.add_constant(X) #adds a column of 1's so the model will contain an intercept, bias\n",
        "X.head()"
      ]
    },
    {
      "cell_type": "code",
      "execution_count": null,
      "metadata": {
        "id": "jjJsZcZaDl1M",
        "outputId": "6c6aa7df-0754-450a-8a5f-b84aab3cb7ec",
        "colab": {
          "base_uri": "https://localhost:8080/"
        }
      },
      "outputs": [
        {
          "output_type": "stream",
          "name": "stdout",
          "text": [
            "                            OLS Regression Results                            \n",
            "==============================================================================\n",
            "Dep. Variable:               prestige   R-squared:                       0.702\n",
            "Model:                            OLS   Adj. R-squared:                  0.695\n",
            "Method:                 Least Squares   F-statistic:                     101.3\n",
            "Date:                Wed, 19 Apr 2023   Prob (F-statistic):           7.14e-13\n",
            "Time:                        18:43:44   Log-Likelihood:                -191.38\n",
            "No. Observations:                  45   AIC:                             386.8\n",
            "Df Residuals:                      43   BIC:                             390.4\n",
            "Df Model:                           1                                         \n",
            "Covariance Type:            nonrobust                                         \n",
            "==============================================================================\n",
            "                 coef    std err          t      P>|t|      [0.025      0.975]\n",
            "------------------------------------------------------------------------------\n",
            "const          2.4566      5.190      0.473      0.638      -8.010      12.923\n",
            "income         1.0804      0.107     10.062      0.000       0.864       1.297\n",
            "==============================================================================\n",
            "Omnibus:                        9.432   Durbin-Watson:                   1.627\n",
            "Prob(Omnibus):                  0.009   Jarque-Bera (JB):               16.567\n",
            "Skew:                           0.418   Prob(JB):                     0.000253\n",
            "Kurtosis:                       5.853   Cond. No.                         96.7\n",
            "==============================================================================\n",
            "\n",
            "Notes:\n",
            "[1] Standard Errors assume that the covariance matrix of the errors is correctly specified.\n"
          ]
        }
      ],
      "source": [
        "model = sm.OLS(y, X)\n",
        "results = model.fit() #fit the model (this is where OLS is actually being run)\n",
        "print(results.summary())"
      ]
    },
    {
      "cell_type": "markdown",
      "metadata": {
        "id": "yJVOaXCNDl1M"
      },
      "source": [
        "### Important output\n",
        "- **R-squared**: the proportion of variance in the dependent variable that can be explained by the independent variable (goodness of fit). Ranges from 0 to 1.\n",
        "- **Adj. R-squared**: Used when comparing models with a different number of indep. variables. Penalizes for using more variables.\n",
        "- **Prob (F-statistic)**: P-value for hypothesis test:\n",
        "    - H<sub>0</sub>: Independent variable(s) have no effect on the dependent variable.\n",
        "    - H<sub>a</sub>: Independent variable(s) have an effect on the dependent variable.\n",
        "- **coef**: The coefficient (slope) for each independent variable (and constant).\n",
        "- **P>|t|**: P-value for the hypthesis test:\n",
        "    - H<sub>0</sub>: Coefficient (slope) is zero (indep. variable does not have an effect on dep. variable)\n",
        "    - H<sub>a</sub>: Coefficient (slope) is not zero (indep. variable has an effect on dep. variable)."
      ]
    },
    {
      "cell_type": "markdown",
      "metadata": {
        "id": "TRhzWicwDl1N"
      },
      "source": [
        "### Residual plots\n",
        "\n",
        "Many linear regression assumptions can be examined by looking at the residuals. We can extract information from the fit model by using attributes, such as `.resid`."
      ]
    },
    {
      "cell_type": "code",
      "execution_count": null,
      "metadata": {
        "scrolled": true,
        "id": "_614Pmu6Dl1N",
        "outputId": "17b0ca92-f32d-4525-b79a-e2eeb53cdae0",
        "colab": {
          "base_uri": "https://localhost:8080/"
        }
      },
      "outputs": [
        {
          "output_type": "execute_result",
          "data": {
            "text/plain": [
              "accountant            12.559266\n",
              "pilot                  2.755369\n",
              "architect              6.514200\n",
              "author                14.121993\n",
              "chemist               18.398486\n",
              "minister              61.855242\n",
              "professor             21.398486\n",
              "dentist                1.112251\n",
              "reporter             -22.842683\n",
              "engineer               7.755369\n",
              "undertaker             9.167059\n",
              "lawyer                 4.433810\n",
              "physician             12.433810\n",
              "welfare.worker        12.247449\n",
              "teacher               18.684721\n",
              "conductor            -46.566190\n",
              "contractor            16.282773\n",
              "factory.owner         13.720045\n",
              "store.manager         -2.832941\n",
              "banker                 5.273031\n",
              "bookkeeper             5.212125\n",
              "mail.carrier         -20.315279\n",
              "insurance.agent      -20.878007\n",
              "store.clerk          -17.787875\n",
              "carpenter              7.855242\n",
              "electrician           -0.234889\n",
              "RR.engineer          -22.968138\n",
              "machinist             15.649397\n",
              "auto.repairman        -0.225147\n",
              "plumber              -20.993720\n",
              "gas.stn.attendant     -8.662420\n",
              "coal.miner             4.980698\n",
              "streetcar.motorman   -28.832941\n",
              "taxi.driver           -2.180081\n",
              "truck.driver         -12.144758\n",
              "machine.operator      -1.144758\n",
              "barber                 0.257191\n",
              "bartender            -12.742809\n",
              "shoe.shiner           -9.180081\n",
              "cook                  -1.582030\n",
              "soda.clerk            -9.421250\n",
              "watchman              -9.823199\n",
              "janitor               -2.019302\n",
              "policeman              1.810177\n",
              "waiter                -1.099692\n",
              "dtype: float64"
            ]
          },
          "metadata": {},
          "execution_count": 10
        }
      ],
      "source": [
        "residuals = results.resid #same unit as target or depend var\n",
        "residuals"
      ]
    },
    {
      "cell_type": "markdown",
      "metadata": {
        "id": "a7yQdfp1Dl1O"
      },
      "source": [
        "#### Normality\n",
        "We can check the normalilty assumption by checking normality on the residuals. We can do this using either a histogram or QQ-plot (and more formally with a hypothesis test)."
      ]
    },
    {
      "cell_type": "code",
      "execution_count": null,
      "metadata": {
        "id": "RlWmHq0SDl1O",
        "outputId": "f2373e92-c20e-43df-d55d-c73dc1f11ccf",
        "colab": {
          "base_uri": "https://localhost:8080/",
          "height": 265
        }
      },
      "outputs": [
        {
          "output_type": "display_data",
          "data": {
            "text/plain": [
              "<Figure size 432x288 with 1 Axes>"
            ],
            "image/png": "[encoded data removed]"
          },
          "metadata": {
            "needs_background": "light"
          }
        }
      ],
      "source": [
        "sns.histplot(residuals)\n",
        "plt.show()"
      ]
    },
    {
      "cell_type": "code",
      "execution_count": null,
      "metadata": {
        "id": "Z58iinAPDl1O",
        "outputId": "5be5dac7-caa9-45cd-890e-1dfc9561acc1",
        "colab": {
          "base_uri": "https://localhost:8080/",
          "height": 280
        }
      },
      "outputs": [
        {
          "output_type": "display_data",
          "data": {
            "text/plain": [
              "<Figure size 432x288 with 1 Axes>"
            ],
            "image/png": "[encoded data removed]"
          },
          "metadata": {
            "needs_background": "light"
          }
        }
      ],
      "source": [
        "sns.scatterplot(data=df, x='income', y='prestige')\n",
        "plt.show()"
      ]
    },
    {
      "cell_type": "code",
      "execution_count": null,
      "metadata": {
        "id": "majraTJpDl1O",
        "outputId": "72f3c34f-15c1-4ffc-f2fa-7cb72e72a041",
        "colab": {
          "base_uri": "https://localhost:8080/",
          "height": 279
        }
      },
      "outputs": [
        {
          "output_type": "display_data",
          "data": {
            "text/plain": [
              "<Figure size 432x288 with 1 Axes>"
            ],
            "image/png": "[encoded data removed]"
          },
          "metadata": {
            "needs_background": "light"
          }
        }
      ],
      "source": [
        "sm.qqplot(residuals, line=\"r\")\n",
        "plt.show()"
      ]
    },
    {
      "cell_type": "code",
      "execution_count": null,
      "metadata": {
        "id": "gq_gCAQwDl1P",
        "outputId": "43eb8e70-8685-410b-af29-3cffc4805a36",
        "colab": {
          "base_uri": "https://localhost:8080/"
        }
      },
      "outputs": [
        {
          "output_type": "execute_result",
          "data": {
            "text/plain": [
              "ShapiroResult(statistic=0.9350489974021912, pvalue=0.014202380552887917)"
            ]
          },
          "metadata": {},
          "execution_count": 14
        }
      ],
      "source": [
        "scipy.stats.shapiro(residuals)"
      ]
    },
    {
      "cell_type": "markdown",
      "source": [
        "null hypotheis states that the data is drawn from a normal distribution. Does this pvalue indicates rejection of null hypothesis?"
      ],
      "metadata": {
        "id": "-zAScTaU_EEe"
      }
    },
    {
      "cell_type": "markdown",
      "metadata": {
        "id": "Px8xQtBbDl1P"
      },
      "source": [
        "#### Homoscedasticity\n",
        "For the homoscedasticity assumption to be satisfied, the variance of the residuals should not change as the indep. variable changes. We can view this visually by plotting the residuals vs the indep. variable (income)."
      ]
    },
    {
      "cell_type": "code",
      "execution_count": null,
      "metadata": {
        "id": "VolTK6P4Dl1Q",
        "outputId": "3d65b5dc-bc55-4c42-d06c-c098294a95c5",
        "colab": {
          "base_uri": "https://localhost:8080/",
          "height": 296
        }
      },
      "outputs": [
        {
          "output_type": "execute_result",
          "data": {
            "text/plain": [
              "<matplotlib.lines.Line2D at 0x7f5112ed5a90>"
            ]
          },
          "metadata": {},
          "execution_count": 15
        },
        {
          "output_type": "display_data",
          "data": {
            "text/plain": [
              "<Figure size 432x288 with 1 Axes>"
            ],
            "image/png": "[encoded data removed]"
          },
          "metadata": {
            "needs_background": "light"
          }
        }
      ],
      "source": [
        "ax = sns.scatterplot(x=df['income'], y=residuals)\n",
        "ax.axhline(0) #horizontal line at 0"
      ]
    },
    {
      "cell_type": "markdown",
      "metadata": {
        "id": "-ijxVBf3Dl1Q"
      },
      "source": [
        "We can also use the Breusch-Pagan test (among others) to formally test homoscedasticity.\n",
        "- H<sub>0</sub>: Homoscedasticity is present (the residuals are distributed with equal variance)\n",
        "- H<sub>a</sub>: Homoscedasticity is not present(the residuals are not distributed with equal variance)"
      ]
    },
    {
      "cell_type": "code",
      "execution_count": null,
      "metadata": {
        "id": "_ZZlPd2UDl1Q",
        "outputId": "ac40d176-7c9d-414b-fdff-e961f82a75b3",
        "colab": {
          "base_uri": "https://localhost:8080/"
        }
      },
      "outputs": [
        {
          "output_type": "stream",
          "name": "stdout",
          "text": [
            "0.6018421465802188 0.6115645291127645\n"
          ]
        }
      ],
      "source": [
        "stat, p, f_stat, f_p = sm.stats.diagnostic.het_breuschpagan(residuals,results.model.exog)\n",
        "print(p,f_p) #actually performs two tests, so it returns two p-values"
      ]
    },
    {
      "cell_type": "code",
      "source": [
        "# results.model.exog"
      ],
      "metadata": {
        "id": "c9VauE5-4O_o"
      },
      "execution_count": null,
      "outputs": []
    },
    {
      "cell_type": "markdown",
      "metadata": {
        "id": "jxjwiCNFDl1Q"
      },
      "source": [
        "Homoscedasticity assumption is satisfied."
      ]
    },
    {
      "cell_type": "markdown",
      "metadata": {
        "id": "h6yArn33Dl1Q"
      },
      "source": [
        "### Extracting coefficients for predictions\n",
        "If we want to make predictions, we need to extract the coefficients from the model and use the equation:\n",
        "\n",
        "$$\n",
        "prestige = m \\times (income) + b\n",
        "$$\n",
        "\n",
        "We can extract the coefficients from the `.params` attribute as follows. [See here](https://www.statsmodels.org/dev/generated/statsmodels.regression.linear_model.RegressionResults.html#statsmodels.regression.linear_model.RegressionResults) for a full list of attributes and methods of a fit OLS model."
      ]
    },
    {
      "cell_type": "code",
      "execution_count": null,
      "metadata": {
        "id": "cl6pOAoODl1R",
        "outputId": "5e09a57c-c4f5-4712-d1ad-e6f493f577ce",
        "colab": {
          "base_uri": "https://localhost:8080/"
        }
      },
      "outputs": [
        {
          "output_type": "execute_result",
          "data": {
            "text/plain": [
              "const     2.456574\n",
              "income    1.080390\n",
              "dtype: float64"
            ]
          },
          "metadata": {},
          "execution_count": 12
        }
      ],
      "source": [
        "results.params"
      ]
    },
    {
      "cell_type": "markdown",
      "metadata": {
        "id": "46myZv3hDl1R"
      },
      "source": [
        "So if we want to predict 'prestige' value for a job with an 'income' value of 50, we can use the equation above:"
      ]
    },
    {
      "cell_type": "code",
      "execution_count": null,
      "metadata": {
        "id": "SVcanWoADl1R",
        "outputId": "b356a1d3-2cbc-44a4-98b6-080bd68f86c8",
        "colab": {
          "base_uri": "https://localhost:8080/"
        }
      },
      "outputs": [
        {
          "output_type": "execute_result",
          "data": {
            "text/plain": [
              "56.47605827758998"
            ]
          },
          "metadata": {},
          "execution_count": 13
        }
      ],
      "source": [
        "b = results.params['const']\n",
        "m = results.params['income']\n",
        "\n",
        "known_income = 50\n",
        "predicted_prestige = m*known_income + b\n",
        "predicted_prestige"
      ]
    },
    {
      "cell_type": "markdown",
      "metadata": {
        "id": "XIr3ja3NDl1R"
      },
      "source": [
        "#### Run linear regression using the log of the dep. variable"
      ]
    },
    {
      "cell_type": "code",
      "execution_count": null,
      "metadata": {
        "id": "Trs4NaqfDl1T",
        "outputId": "c62bcb22-42cd-4f03-c0f8-4bd4ca4bd31a",
        "colab": {
          "base_uri": "https://localhost:8080/"
        }
      },
      "outputs": [
        {
          "output_type": "stream",
          "name": "stdout",
          "text": [
            "                            OLS Regression Results                            \n",
            "==============================================================================\n",
            "Dep. Variable:               prestige   R-squared:                       0.685\n",
            "Model:                            OLS   Adj. R-squared:                  0.678\n",
            "Method:                 Least Squares   F-statistic:                     93.50\n",
            "Date:                Wed, 22 Mar 2023   Prob (F-statistic):           2.37e-12\n",
            "Time:                        18:55:11   Log-Likelihood:                -33.781\n",
            "No. Observations:                  45   AIC:                             71.56\n",
            "Df Residuals:                      43   BIC:                             75.18\n",
            "Df Model:                           1                                         \n",
            "Covariance Type:            nonrobust                                         \n",
            "==============================================================================\n",
            "                 coef    std err          t      P>|t|      [0.025      0.975]\n",
            "------------------------------------------------------------------------------\n",
            "const          2.2316      0.156     14.269      0.000       1.916       2.547\n",
            "income         0.0313      0.003      9.670      0.000       0.025       0.038\n",
            "==============================================================================\n",
            "Omnibus:                        3.271   Durbin-Watson:                   1.857\n",
            "Prob(Omnibus):                  0.195   Jarque-Bera (JB):                2.783\n",
            "Skew:                          -0.003   Prob(JB):                        0.249\n",
            "Kurtosis:                       4.218   Cond. No.                         96.7\n",
            "==============================================================================\n",
            "\n",
            "Notes:\n",
            "[1] Standard Errors assume that the covariance matrix of the errors is correctly specified.\n"
          ]
        }
      ],
      "source": [
        "import numpy as np\n",
        "\n",
        "y = np.log(df['prestige'])\n",
        "X = df['income']\n",
        "X = sm.add_constant(X) #adds a column of 1's so the model will contain an intercept\n",
        "\n",
        "model = sm.OLS(y, X) #instantiate\n",
        "results = model.fit() #fit the model (this is where OLS is actually being run)\n",
        "print(results.summary())"
      ]
    },
    {
      "cell_type": "code",
      "execution_count": null,
      "metadata": {
        "id": "KOfEIzbpDl1U",
        "outputId": "1aa19131-a944-42fb-92fc-41fb7f05b34b",
        "colab": {
          "base_uri": "https://localhost:8080/"
        }
      },
      "outputs": [
        {
          "output_type": "execute_result",
          "data": {
            "text/plain": [
              "ShapiroResult(statistic=0.9642308950424194, pvalue=0.17687135934829712)"
            ]
          },
          "metadata": {},
          "execution_count": 15
        }
      ],
      "source": [
        "residuals = results.resid\n",
        "scipy.stats.shapiro(residuals)"
      ]
    },
    {
      "cell_type": "markdown",
      "metadata": {
        "id": "Mb-I_ULEDl1U"
      },
      "source": [
        "Normality assumption is now satisfied. We should also check homoscedasticity again."
      ]
    },
    {
      "cell_type": "code",
      "execution_count": null,
      "metadata": {
        "id": "R7CYq-p3Dl1V",
        "outputId": "a6d5b7ac-38bc-4775-85c2-372e80f29e2d",
        "colab": {
          "base_uri": "https://localhost:8080/",
          "height": 296
        }
      },
      "outputs": [
        {
          "output_type": "execute_result",
          "data": {
            "text/plain": [
              "<matplotlib.lines.Line2D at 0x7f743530fa90>"
            ]
          },
          "metadata": {},
          "execution_count": 16
        },
        {
          "output_type": "display_data",
          "data": {
            "text/plain": [
              "<Figure size 432x288 with 1 Axes>"
            ],
            "image/png": "[encoded data removed]"
          },
          "metadata": {
            "needs_background": "light"
          }
        }
      ],
      "source": [
        "ax = sns.scatterplot(x=df['income'], y=residuals)\n",
        "ax.axhline(0) #horizontal line at 0"
      ]
    },
    {
      "cell_type": "code",
      "execution_count": null,
      "metadata": {
        "id": "CZxdOlGFDl1V",
        "outputId": "1b7e5dca-ba49-4d84-a851-5e907d34b6f3",
        "colab": {
          "base_uri": "https://localhost:8080/"
        }
      },
      "outputs": [
        {
          "output_type": "stream",
          "name": "stdout",
          "text": [
            "0.08670784652605822 0.09045189617435644\n"
          ]
        }
      ],
      "source": [
        "stat, p, f_stat, f_p = sm.stats.diagnostic.het_breuschpagan(residuals,results.model.exog)\n",
        "print(p,f_p)"
      ]
    },
    {
      "cell_type": "markdown",
      "metadata": {
        "id": "ZcsZe54vDl1V"
      },
      "source": [
        "Since we took the log of the prestige, we need to solve for prestige to get the proper prediction.\n",
        "$$\n",
        "\\ln(prestige) = m \\times (income) + b\n",
        "$$\n",
        "$$\n",
        "prestige = e^{m \\times (income) + b}\n",
        "$$"
      ]
    },
    {
      "cell_type": "code",
      "execution_count": null,
      "metadata": {
        "id": "bF4V2AmjDl1V",
        "outputId": "f569958f-c1e5-4158-ce91-912e65297394",
        "colab": {
          "base_uri": "https://localhost:8080/"
        }
      },
      "outputs": [
        {
          "output_type": "execute_result",
          "data": {
            "text/plain": [
              "44.51617630386662"
            ]
          },
          "metadata": {},
          "execution_count": 18
        }
      ],
      "source": [
        "b = results.params['const']\n",
        "m = results.params['income']\n",
        "\n",
        "known_income = 50\n",
        "predicted_prestige = np.exp(m*known_income + b)\n",
        "predicted_prestige"
      ]
    },
    {
      "cell_type": "markdown",
      "metadata": {
        "id": "EJErcf7pDl1X"
      },
      "source": [
        "---\n",
        "## Multivariate Linear Regression\n",
        "\n",
        "multivariate iple linear regression consists of one continuous dependent variable and more than one independent variable. Let's use prestige as our dependent variable ($y$) and income and education as our independent variables ($x_1$ and $x_2$). This multiple linear regression model uses the relationship:\n",
        "\n",
        "$$\n",
        "y=b_0 + b_1x_1 + b_2x_2\n",
        "$$\n",
        "\n",
        "> Note that if we want an intercept ($b_0$) in a statsmodels OLS model, we need to use the statsmodels's `add_constant` function, prior to fitting the model (as shown below)."
      ]
    },
    {
      "cell_type": "code",
      "execution_count": null,
      "metadata": {
        "id": "AFtd0aHIDl1Y",
        "outputId": "405345d7-d109-4da4-9bfa-b88c609d541e",
        "colab": {
          "base_uri": "https://localhost:8080/",
          "height": 206
        }
      },
      "outputs": [
        {
          "output_type": "execute_result",
          "data": {
            "text/plain": [
              "            const  income  education\n",
              "accountant    1.0      62         86\n",
              "pilot         1.0      72         76\n",
              "architect     1.0      75         92\n",
              "author        1.0      55         90\n",
              "chemist       1.0      64         86"
            ],
            "text/html": [
              "\n",
              "  <div id=\"df-b41d1d4f-9811-4ed9-9ae1-716eb97dd7ac\">\n",
              "    <div class=\"colab-df-container\">\n",
              "      <div>\n",
              "<style scoped>\n",
              "    .dataframe tbody tr th:only-of-type {\n",
              "        vertical-align: middle;\n",
              "    }\n",
              "\n",
              "    .dataframe tbody tr th {\n",
              "        vertical-align: top;\n",
              "    }\n",
              "\n",
              "    .dataframe thead th {\n",
              "        text-align: right;\n",
              "    }\n",
              "</style>\n",
              "<table border=\"1\" class=\"dataframe\">\n",
              "  <thead>\n",
              "    <tr style=\"text-align: right;\">\n",
              "      <th></th>\n",
              "      <th>const</th>\n",
              "      <th>income</th>\n",
              "      <th>education</th>\n",
              "    </tr>\n",
              "  </thead>\n",
              "  <tbody>\n",
              "    <tr>\n",
              "      <th>accountant</th>\n",
              "      <td>1.0</td>\n",
              "      <td>62</td>\n",
              "      <td>86</td>\n",
              "    </tr>\n",
              "    <tr>\n",
              "      <th>pilot</th>\n",
              "      <td>1.0</td>\n",
              "      <td>72</td>\n",
              "      <td>76</td>\n",
              "    </tr>\n",
              "    <tr>\n",
              "      <th>architect</th>\n",
              "      <td>1.0</td>\n",
              "      <td>75</td>\n",
              "      <td>92</td>\n",
              "    </tr>\n",
              "    <tr>\n",
              "      <th>author</th>\n",
              "      <td>1.0</td>\n",
              "      <td>55</td>\n",
              "      <td>90</td>\n",
              "    </tr>\n",
              "    <tr>\n",
              "      <th>chemist</th>\n",
              "      <td>1.0</td>\n",
              "      <td>64</td>\n",
              "      <td>86</td>\n",
              "    </tr>\n",
              "  </tbody>\n",
              "</table>\n",
              "</div>\n",
              "      <button class=\"colab-df-convert\" onclick=\"convertToInteractive('df-b41d1d4f-9811-4ed9-9ae1-716eb97dd7ac')\"\n",
              "              title=\"Convert this dataframe to an interactive table.\"\n",
              "              style=\"display:none;\">\n",
              "        \n",
              "  <svg xmlns=\"http://www.w3.org/2000/svg\" height=\"24px\"viewBox=\"0 0 24 24\"\n",
              "       width=\"24px\">\n",
              "    <path d=\"M0 0h24v24H0V0z\" fill=\"none\"/>\n",
              "    <path d=\"M18.56 5.44l.94 2.06.94-2.06 2.06-.94-2.06-.94-.94-2.06-.94 2.06-2.06.94zm-11 1L8.5 8.5l.94-2.06 2.06-.94-2.06-.94L8.5 2.5l-.94 2.06-2.06.94zm10 10l.94 2.06.94-2.06 2.06-.94-2.06-.94-.94-2.06-.94 2.06-2.06.94z\"/><path d=\"M17.41 7.96l-1.37-1.37c-.4-.4-.92-.59-1.43-.59-.52 0-1.04.2-1.43.59L10.3 9.45l-7.72 7.72c-.78.78-.78 2.05 0 2.83L4 21.41c.39.39.9.59 1.41.59.51 0 1.02-.2 1.41-.59l7.78-7.78 2.81-2.81c.8-.78.8-2.07 0-2.86zM5.41 20L4 18.59l7.72-7.72 1.47 1.35L5.41 20z\"/>\n",
              "  </svg>\n",
              "      </button>\n",
              "      \n",
              "  <style>\n",
              "    .colab-df-container {\n",
              "      display:flex;\n",
              "      flex-wrap:wrap;\n",
              "      gap: 12px;\n",
              "    }\n",
              "\n",
              "    .colab-df-convert {\n",
              "      background-color: #E8F0FE;\n",
              "      border: none;\n",
              "      border-radius: 50%;\n",
              "      cursor: pointer;\n",
              "      display: none;\n",
              "      fill: #1967D2;\n",
              "      height: 32px;\n",
              "      padding: 0 0 0 0;\n",
              "      width: 32px;\n",
              "    }\n",
              "\n",
              "    .colab-df-convert:hover {\n",
              "      background-color: #E2EBFA;\n",
              "      box-shadow: 0px 1px 2px rgba(60, 64, 67, 0.3), 0px 1px 3px 1px rgba(60, 64, 67, 0.15);\n",
              "      fill: #174EA6;\n",
              "    }\n",
              "\n",
              "    [theme=dark] .colab-df-convert {\n",
              "      background-color: #3B4455;\n",
              "      fill: #D2E3FC;\n",
              "    }\n",
              "\n",
              "    [theme=dark] .colab-df-convert:hover {\n",
              "      background-color: #434B5C;\n",
              "      box-shadow: 0px 1px 3px 1px rgba(0, 0, 0, 0.15);\n",
              "      filter: drop-shadow(0px 1px 2px rgba(0, 0, 0, 0.3));\n",
              "      fill: #FFFFFF;\n",
              "    }\n",
              "  </style>\n",
              "\n",
              "      <script>\n",
              "        const buttonEl =\n",
              "          document.querySelector('#df-b41d1d4f-9811-4ed9-9ae1-716eb97dd7ac button.colab-df-convert');\n",
              "        buttonEl.style.display =\n",
              "          google.colab.kernel.accessAllowed ? 'block' : 'none';\n",
              "\n",
              "        async function convertToInteractive(key) {\n",
              "          const element = document.querySelector('#df-b41d1d4f-9811-4ed9-9ae1-716eb97dd7ac');\n",
              "          const dataTable =\n",
              "            await google.colab.kernel.invokeFunction('convertToInteractive',\n",
              "                                                     [key], {});\n",
              "          if (!dataTable) return;\n",
              "\n",
              "          const docLinkHtml = 'Like what you see? Visit the ' +\n",
              "            '<a target=\"_blank\" href=https://colab.research.google.com/notebooks/data_table.ipynb>data table notebook</a>'\n",
              "            + ' to learn more about interactive tables.';\n",
              "          element.innerHTML = '';\n",
              "          dataTable['output_type'] = 'display_data';\n",
              "          await google.colab.output.renderOutput(dataTable, element);\n",
              "          const docLink = document.createElement('div');\n",
              "          docLink.innerHTML = docLinkHtml;\n",
              "          element.appendChild(docLink);\n",
              "        }\n",
              "      </script>\n",
              "    </div>\n",
              "  </div>\n",
              "  "
            ]
          },
          "metadata": {},
          "execution_count": 19
        }
      ],
      "source": [
        "y = df['prestige']\n",
        "X = df[['income', 'education']]\n",
        "X = sm.add_constant(X) #adds a column of 1's so the model will contain an intercept\n",
        "X.head()"
      ]
    },
    {
      "cell_type": "code",
      "execution_count": null,
      "metadata": {
        "scrolled": false,
        "id": "j_cPEYlaDl1Y",
        "outputId": "537ccd8a-caaa-4c15-e301-0ba657e718db",
        "colab": {
          "base_uri": "https://localhost:8080/"
        }
      },
      "outputs": [
        {
          "output_type": "stream",
          "name": "stdout",
          "text": [
            "                            OLS Regression Results                            \n",
            "==============================================================================\n",
            "Dep. Variable:               prestige   R-squared:                       0.828\n",
            "Model:                            OLS   Adj. R-squared:                  0.820\n",
            "Method:                 Least Squares   F-statistic:                     101.2\n",
            "Date:                Wed, 22 Mar 2023   Prob (F-statistic):           8.65e-17\n",
            "Time:                        18:59:55   Log-Likelihood:                -178.98\n",
            "No. Observations:                  45   AIC:                             364.0\n",
            "Df Residuals:                      42   BIC:                             369.4\n",
            "Df Model:                           2                                         \n",
            "Covariance Type:            nonrobust                                         \n",
            "==============================================================================\n",
            "                 coef    std err          t      P>|t|      [0.025      0.975]\n",
            "------------------------------------------------------------------------------\n",
            "const         -6.0647      4.272     -1.420      0.163     -14.686       2.556\n",
            "income         0.5987      0.120      5.003      0.000       0.357       0.840\n",
            "education      0.5458      0.098      5.555      0.000       0.348       0.744\n",
            "==============================================================================\n",
            "Omnibus:                        1.279   Durbin-Watson:                   1.458\n",
            "Prob(Omnibus):                  0.528   Jarque-Bera (JB):                0.520\n",
            "Skew:                           0.155   Prob(JB):                        0.771\n",
            "Kurtosis:                       3.426   Cond. No.                         163.\n",
            "==============================================================================\n",
            "\n",
            "Notes:\n",
            "[1] Standard Errors assume that the covariance matrix of the errors is correctly specified.\n"
          ]
        }
      ],
      "source": [
        "model = sm.OLS(y, X) #instantiate\n",
        "results = model.fit() #fit the model (this is where OLS is actually being run)\n",
        "print(results.summary())"
      ]
    },
    {
      "cell_type": "markdown",
      "metadata": {
        "id": "mhl8-07aDl1Y"
      },
      "source": [
        "### Residual Plots\n",
        "#### Normality"
      ]
    },
    {
      "cell_type": "code",
      "execution_count": null,
      "metadata": {
        "scrolled": true,
        "id": "dWgI-wwVDl1Y",
        "outputId": "1f78943d-8deb-4a31-fd18-33bbc78c9d46",
        "colab": {
          "base_uri": "https://localhost:8080/"
        }
      },
      "outputs": [
        {
          "output_type": "execute_result",
          "data": {
            "text/plain": [
              "accountant             4.001512\n",
              "pilot                  4.472523\n",
              "architect              0.942982\n",
              "author                 0.009306\n",
              "chemist               10.804046\n",
              "minister              34.641225\n",
              "professor              9.983209\n",
              "dentist               -6.417354\n",
              "reporter             -29.537986\n",
              "engineer               4.014184\n",
              "undertaker            -2.473825\n",
              "lawyer                -3.930755\n",
              "physician              4.615079\n",
              "welfare.worker        -5.333431\n",
              "teacher                0.654602\n",
              "conductor            -19.997384\n",
              "contractor            25.769297\n",
              "factory.owner         20.573995\n",
              "store.manager          1.901192\n",
              "banker                 6.605122\n",
              "bookkeeper           -11.598630\n",
              "mail.carrier         -18.695378\n",
              "insurance.agent      -24.619850\n",
              "store.clerk          -22.590284\n",
              "carpenter             13.937094\n",
              "electrician            9.636698\n",
              "RR.engineer            9.283955\n",
              "machinist             24.043596\n",
              "auto.repairman         6.884195\n",
              "plumber               -4.925429\n",
              "gas.stn.attendant     -8.745513\n",
              "coal.miner            13.052696\n",
              "streetcar.motorman   -14.273797\n",
              "taxi.driver            0.305223\n",
              "truck.driver          -1.696235\n",
              "machine.operator       6.574595\n",
              "barber                 2.293256\n",
              "bartender            -11.798412\n",
              "shoe.shiner           -5.603109\n",
              "cook                   1.674057\n",
              "soda.clerk           -11.495148\n",
              "watchman              -6.759643\n",
              "janitor               -1.043145\n",
              "policeman              1.053553\n",
              "waiter                -6.191885\n",
              "dtype: float64"
            ]
          },
          "metadata": {},
          "execution_count": 21
        }
      ],
      "source": [
        "residuals = results.resid\n",
        "residuals"
      ]
    },
    {
      "cell_type": "code",
      "execution_count": null,
      "metadata": {
        "id": "VmLKxMx4Dl1Z",
        "outputId": "1a3fc7c3-fad6-4f81-dc18-65cd17eb8c14",
        "colab": {
          "base_uri": "https://localhost:8080/",
          "height": 282
        }
      },
      "outputs": [
        {
          "output_type": "execute_result",
          "data": {
            "text/plain": [
              "<Axes: ylabel='Count'>"
            ]
          },
          "metadata": {},
          "execution_count": 22
        },
        {
          "output_type": "display_data",
          "data": {
            "text/plain": [
              "<Figure size 432x288 with 1 Axes>"
            ],
            "image/png": "[encoded data removed]"
          },
          "metadata": {
            "needs_background": "light"
          }
        }
      ],
      "source": [
        "sns.histplot(residuals)"
      ]
    },
    {
      "cell_type": "code",
      "execution_count": null,
      "metadata": {
        "scrolled": true,
        "id": "ngMP1eJ2Dl1a",
        "outputId": "5d512328-9163-4dd3-e390-35adbfc3f9c7",
        "colab": {
          "base_uri": "https://localhost:8080/",
          "height": 279
        }
      },
      "outputs": [
        {
          "output_type": "display_data",
          "data": {
            "text/plain": [
              "<Figure size 432x288 with 1 Axes>"
            ],
            "image/png": "[encoded data removed]"
          },
          "metadata": {
            "needs_background": "light"
          }
        }
      ],
      "source": [
        "sm.qqplot(residuals, line=\"r\")\n",
        "plt.show()"
      ]
    },
    {
      "cell_type": "code",
      "execution_count": null,
      "metadata": {
        "scrolled": false,
        "id": "cT-EhcqRDl1a",
        "outputId": "8f579744-f7e0-4eae-99ea-a0a3e67ea0c8",
        "colab": {
          "base_uri": "https://localhost:8080/"
        }
      },
      "outputs": [
        {
          "output_type": "execute_result",
          "data": {
            "text/plain": [
              "ShapiroResult(statistic=0.9825432300567627, pvalue=0.7234017848968506)"
            ]
          },
          "metadata": {},
          "execution_count": 24
        }
      ],
      "source": [
        "scipy.stats.shapiro(residuals)"
      ]
    },
    {
      "cell_type": "markdown",
      "metadata": {
        "id": "9CoyyRY4Dl1d"
      },
      "source": [
        "#### Homoscedasticity"
      ]
    },
    {
      "cell_type": "code",
      "execution_count": null,
      "metadata": {
        "id": "BqFDlyY-Dl1d",
        "outputId": "e731a7b9-25a7-42fa-ee11-cdb688b11313",
        "colab": {
          "base_uri": "https://localhost:8080/",
          "height": 296
        }
      },
      "outputs": [
        {
          "output_type": "execute_result",
          "data": {
            "text/plain": [
              "<matplotlib.lines.Line2D at 0x7f743595f100>"
            ]
          },
          "metadata": {},
          "execution_count": 25
        },
        {
          "output_type": "display_data",
          "data": {
            "text/plain": [
              "<Figure size 432x288 with 1 Axes>"
            ],
            "image/png": "[encoded data removed]"
          },
          "metadata": {
            "needs_background": "light"
          }
        }
      ],
      "source": [
        "ax = sns.scatterplot(x=df['income'], y=residuals)\n",
        "ax.axhline(0) #horizontal line at 0"
      ]
    },
    {
      "cell_type": "code",
      "execution_count": null,
      "metadata": {
        "id": "zcWgXujxDl1d",
        "outputId": "45817902-eb51-4469-cbf1-2875e99de395",
        "colab": {
          "base_uri": "https://localhost:8080/",
          "height": 296
        }
      },
      "outputs": [
        {
          "output_type": "execute_result",
          "data": {
            "text/plain": [
              "<matplotlib.lines.Line2D at 0x7f7435815d90>"
            ]
          },
          "metadata": {},
          "execution_count": 26
        },
        {
          "output_type": "display_data",
          "data": {
            "text/plain": [
              "<Figure size 432x288 with 1 Axes>"
            ],
            "image/png": "[encoded data removed]"
          },
          "metadata": {
            "needs_background": "light"
          }
        }
      ],
      "source": [
        "ax = sns.scatterplot(x=df['education'], y=residuals)\n",
        "ax.axhline(0) #horizontal line at 0"
      ]
    },
    {
      "cell_type": "code",
      "execution_count": null,
      "metadata": {
        "id": "qi4fxNqtDl1d",
        "outputId": "c7f022fe-f3bf-4072-d45a-294584d79c16",
        "colab": {
          "base_uri": "https://localhost:8080/"
        }
      },
      "outputs": [
        {
          "output_type": "stream",
          "name": "stdout",
          "text": [
            "0.7500543806429675 0.7632527707017802\n"
          ]
        }
      ],
      "source": [
        "stat, p, f_stat, f_p = sm.stats.diagnostic.het_breuschpagan(residuals,results.model.exog)\n",
        "print(p,f_p)"
      ]
    },
    {
      "cell_type": "markdown",
      "metadata": {
        "id": "YZDvLfFjDl1d"
      },
      "source": [
        "> Normality and homoscedasticity assumptions are satisfied, but we saw earlier that multicollinearity was not (significant correlation between income and education)."
      ]
    },
    {
      "cell_type": "code",
      "execution_count": null,
      "metadata": {
        "id": "0NYYHgx4Dl1d",
        "outputId": "3af60c69-4d18-4b18-f477-825e5a98b624",
        "colab": {
          "base_uri": "https://localhost:8080/"
        }
      },
      "outputs": [
        {
          "output_type": "execute_result",
          "data": {
            "text/plain": [
              "1.83994641852091e-08"
            ]
          },
          "metadata": {},
          "execution_count": 27
        }
      ],
      "source": [
        "stat, p = scipy.stats.pearsonr(df['income'], df['education'])\n",
        "p"
      ]
    },
    {
      "cell_type": "markdown",
      "metadata": {
        "id": "mTaznGBsDl1d"
      },
      "source": [
        "### Predictions\n",
        "So if we want to predict the 'prestige' value for a job with an 'income' value of 50 and an 'education' value of 70, we can perform the following:"
      ]
    },
    {
      "cell_type": "code",
      "execution_count": null,
      "metadata": {
        "id": "j3tkwwnIDl1d",
        "outputId": "61a0c193-aecc-4e50-ee60-90381ec4db99",
        "colab": {
          "base_uri": "https://localhost:8080/"
        }
      },
      "outputs": [
        {
          "output_type": "execute_result",
          "data": {
            "text/plain": [
              "62.08035181243301"
            ]
          },
          "metadata": {},
          "execution_count": 28
        }
      ],
      "source": [
        "b0 = results.params['const']\n",
        "b1 = results.params['income']\n",
        "b2 = results.params['education']\n",
        "\n",
        "known_income = 50\n",
        "known_education = 70\n",
        "\n",
        "predicted_prestige = b0 + b1*known_income + b2*known_education\n",
        "predicted_prestige"
      ]
    },
    {
      "cell_type": "markdown",
      "metadata": {
        "id": "WxnhbzZIDl1e"
      },
      "source": [
        "## Logistic Regression\n",
        "\n",
        "If our dependent variable is categorical (not numerical), then a linear regression model will likely not fit our data well. Logistic regression models will be a better fit. Let's just focus on the case where our dependent variable is a binary categorical variable (although logistic regression can also be applied to the multi-class classification).\n",
        "\n",
        "Recall that our occupation dataset has a categorical variable referring to the type of occupation.\n",
        "> Note: logistic regression does not require the normality or homoscedasticity assumptions, but still requires: no multicollinearity, independence of observations, and a linear relationship between the logit and the indep. variables."
      ]
    },
    {
      "cell_type": "code",
      "execution_count": null,
      "metadata": {
        "id": "y6o7jTA6Dl1e",
        "outputId": "461d3af7-9129-487a-de8a-189d5ce6791b",
        "colab": {
          "base_uri": "https://localhost:8080/"
        }
      },
      "outputs": [
        {
          "output_type": "execute_result",
          "data": {
            "text/plain": [
              "bc      21\n",
              "prof    18\n",
              "wc       6\n",
              "Name: type, dtype: int64"
            ]
          },
          "metadata": {},
          "execution_count": 29
        }
      ],
      "source": [
        "df['type'].value_counts()"
      ]
    },
    {
      "cell_type": "markdown",
      "metadata": {
        "id": "zo9mgbFGDl1e"
      },
      "source": [
        "Let's simplify our dataset to only include professional and blue-collar occupations, and then code 'prof' to be 1 and 'bc' to be 0."
      ]
    },
    {
      "cell_type": "code",
      "execution_count": null,
      "metadata": {
        "scrolled": true,
        "id": "1yuo7FXsDl1e",
        "outputId": "a335c64f-f1cb-44d1-fc5e-c7e69ba074be",
        "colab": {
          "base_uri": "https://localhost:8080/"
        }
      },
      "outputs": [
        {
          "output_type": "execute_result",
          "data": {
            "text/plain": [
              "0    21\n",
              "1    18\n",
              "Name: type, dtype: int64"
            ]
          },
          "metadata": {},
          "execution_count": 31
        }
      ],
      "source": [
        "log_reg_df = df[(df['type']!='wc')] #remove the white collar jobs\n",
        "\n",
        "# replace 'prof' and 'bc' with 1 and 0, respectively\n",
        "log_reg_df.loc[log_reg_df['type'] == 'prof', 'type'] = 1\n",
        "log_reg_df.loc[log_reg_df['type'] == 'bc', 'type'] = 0\n",
        "\n",
        "log_reg_df['type'].value_counts()"
      ]
    },
    {
      "cell_type": "markdown",
      "metadata": {
        "id": "jKmF9_qMDl1e"
      },
      "source": [
        "We are now ready to perform logistic regression. Our dependent variable is 'type' and let's just use two independent variables 'income' and 'prestige' (and we'll include a constant in our model)."
      ]
    },
    {
      "cell_type": "code",
      "execution_count": null,
      "metadata": {
        "id": "L1EgU-_TDl1e",
        "outputId": "7435c023-b63b-411c-da1a-1398814eeb42",
        "colab": {
          "base_uri": "https://localhost:8080/"
        }
      },
      "outputs": [
        {
          "output_type": "stream",
          "name": "stdout",
          "text": [
            "Optimization terminated successfully.\n",
            "         Current function value: 0.139965\n",
            "         Iterations 9\n",
            "                           Logit Regression Results                           \n",
            "==============================================================================\n",
            "Dep. Variable:                   type   No. Observations:                   39\n",
            "Model:                          Logit   Df Residuals:                       36\n",
            "Method:                           MLE   Df Model:                            2\n",
            "Date:                Wed, 22 Mar 2023   Pseudo R-squ.:                  0.7972\n",
            "Time:                        19:05:00   Log-Likelihood:                -5.4586\n",
            "converged:                       True   LL-Null:                       -26.917\n",
            "Covariance Type:            nonrobust   LLR p-value:                 4.793e-10\n",
            "==============================================================================\n",
            "                 coef    std err          z      P>|z|      [0.025      0.975]\n",
            "------------------------------------------------------------------------------\n",
            "const         -7.5321      3.210     -2.346      0.019     -13.824      -1.240\n",
            "income        -0.0937      0.072     -1.304      0.192      -0.235       0.047\n",
            "prestige       0.2127      0.086      2.480      0.013       0.045       0.381\n",
            "==============================================================================\n"
          ]
        }
      ],
      "source": [
        "y = log_reg_df['type']\n",
        "X = log_reg_df[['income', 'prestige']]\n",
        "X = sm.add_constant(X) #adds a column of 1's so the model will contain an intercept\n",
        "\n",
        "model = sm.Logit(y.astype(float),X.astype(float)) # (need to send in as floats)\n",
        "\n",
        "results = model.fit() #fit the model (MLE)\n",
        "print(results.summary())"
      ]
    },
    {
      "cell_type": "markdown",
      "metadata": {
        "id": "3hZpSeAlDl1e"
      },
      "source": [
        "So if we wanted to predict occupation type ('prof' or 'bc') from income and prestige, we can use the following formula to get the probability of the occupation being 'prof' (remember we coded 'prof' to be 1).\n",
        "\n",
        "$$\n",
        "p = \\dfrac{1}{1+e^{-(b_0+b_1x_1+b_2x_2)}}\n",
        "$$\n",
        "\n",
        "$$\n",
        "p_{prof} = \\dfrac{1}{1+e^{-(b_0+b_1\\times (income)+b_2\\times (prestige))}}\n",
        "$$\n",
        "\n",
        "For job with an 'income' of 50 and a 'prestige' of 70, we can calculate the probability of that job's type is professional as follows:"
      ]
    },
    {
      "cell_type": "code",
      "execution_count": null,
      "metadata": {
        "id": "y7zQopkUDl1e",
        "outputId": "f4b9d037-17ea-4ded-f6bf-77679aa0e29e",
        "colab": {
          "base_uri": "https://localhost:8080/"
        }
      },
      "outputs": [
        {
          "output_type": "execute_result",
          "data": {
            "text/plain": [
              "0.9352680653054474"
            ]
          },
          "metadata": {},
          "execution_count": 33
        }
      ],
      "source": [
        "import numpy as np #for euler's number\n",
        "\n",
        "b0 = results.params['const']\n",
        "b1 = results.params['income']\n",
        "b2 = results.params['prestige']\n",
        "\n",
        "known_income = 50\n",
        "known_prestige = 70\n",
        "\n",
        "exponent = -(b0+b1*known_income+b2*known_prestige)\n",
        "prob_prof = 1/(1+np.exp(exponent))\n",
        "prob_prof"
      ]
    },
    {
      "cell_type": "code",
      "source": [],
      "metadata": {
        "id": "7qua_UHdfgzc"
      },
      "execution_count": null,
      "outputs": []
    }
  ],
  "metadata": {
    "kernelspec": {
      "display_name": "Python 3 (ipykernel)",
      "language": "python",
      "name": "python3"
    },
    "language_info": {
      "codemirror_mode": {
        "name": "ipython",
        "version": 3
      },
      "file_extension": ".py",
      "mimetype": "text/x-python",
      "name": "python",
      "nbconvert_exporter": "python",
      "pygments_lexer": "ipython3",
      "version": "3.9.7"
    },
    "colab": {
      "provenance": [],
      "include_colab_link": true
    }
  },
  "nbformat": 4,
  "nbformat_minor": 0
}
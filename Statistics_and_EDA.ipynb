{
  "cells": [
    {
      "cell_type": "markdown",
      "metadata": {
        "id": "twsjwMiweIHh"
      },
      "source": [
        "# Hypothesis Testing and Transformations\n",
        "\n",
        "Notebook by Jeremy Eng"
      ]
    },
    {
      "cell_type": "markdown",
      "metadata": {
        "id": "g8FJPROGeIHp"
      },
      "source": [
        "## Introduction\n",
        "- In this notebook, we will demo how to perform common statistical hypothesis tests in [scipy's stats library](https://docs.scipy.org/doc/scipy/reference/stats.html).\n",
        "- We will also look at how to perform data transformations (manually) and their effect on the data's distribution."
      ]
    },
    {
      "cell_type": "markdown",
      "metadata": {
        "id": "tTH_kN05eIHq"
      },
      "source": [
        "## Scipy Installation\n",
        "Make sure scipy is installed if it isn't already. Like most packages, it can be installed:\n",
        "- using pip: `pip install scipy`\n",
        "- or conda: `conda install -c anaconda scipy`"
      ]
    },
    {
      "cell_type": "code",
      "execution_count": null,
      "metadata": {
        "id": "42jl417vJ99g"
      },
      "outputs": [],
      "source": [
        "# !conda install scipy\n",
        "# !conda install seaborn\n",
        "# !conda install -c anaconda scipy"
      ]
    },
    {
      "cell_type": "code",
      "execution_count": null,
      "metadata": {
        "id": "4CxOlrpueIHr"
      },
      "outputs": [],
      "source": [
        "# !pip install scipy\n",
        "# !pip install seaborn"
      ]
    },
    {
      "cell_type": "markdown",
      "metadata": {
        "id": "tPDFRKApeIHt"
      },
      "source": [
        "## The dataset\n",
        "We will use the 'tips' dataset for this demo. It can be easily loaded using seaborn's `load_dataset()` function. Feel free to take some time familiarizing yourself with the dataset."
      ]
    },
    {
      "cell_type": "code",
      "execution_count": null,
      "metadata": {
        "colab": {
          "base_uri": "https://localhost:8080/",
          "height": 206
        },
        "id": "NQ4iVN5WeIHu",
        "outputId": "f0484ba8-e1c9-422c-df6a-59eb5887241f"
      },
      "outputs": [
        {
          "data": {
            "text/html": [
              "<div>\n",
              "<style scoped>\n",
              "    .dataframe tbody tr th:only-of-type {\n",
              "        vertical-align: middle;\n",
              "    }\n",
              "\n",
              "    .dataframe tbody tr th {\n",
              "        vertical-align: top;\n",
              "    }\n",
              "\n",
              "    .dataframe thead th {\n",
              "        text-align: right;\n",
              "    }\n",
              "</style>\n",
              "<table border=\"1\" class=\"dataframe\">\n",
              "  <thead>\n",
              "    <tr style=\"text-align: right;\">\n",
              "      <th></th>\n",
              "      <th>total_bill</th>\n",
              "      <th>tip</th>\n",
              "      <th>sex</th>\n",
              "      <th>smoker</th>\n",
              "      <th>day</th>\n",
              "      <th>time</th>\n",
              "      <th>size</th>\n",
              "    </tr>\n",
              "  </thead>\n",
              "  <tbody>\n",
              "    <tr>\n",
              "      <th>0</th>\n",
              "      <td>16.99</td>\n",
              "      <td>1.01</td>\n",
              "      <td>Female</td>\n",
              "      <td>No</td>\n",
              "      <td>Sun</td>\n",
              "      <td>Dinner</td>\n",
              "      <td>2</td>\n",
              "    </tr>\n",
              "    <tr>\n",
              "      <th>1</th>\n",
              "      <td>10.34</td>\n",
              "      <td>1.66</td>\n",
              "      <td>Male</td>\n",
              "      <td>No</td>\n",
              "      <td>Sun</td>\n",
              "      <td>Dinner</td>\n",
              "      <td>3</td>\n",
              "    </tr>\n",
              "    <tr>\n",
              "      <th>2</th>\n",
              "      <td>21.01</td>\n",
              "      <td>3.50</td>\n",
              "      <td>Male</td>\n",
              "      <td>No</td>\n",
              "      <td>Sun</td>\n",
              "      <td>Dinner</td>\n",
              "      <td>3</td>\n",
              "    </tr>\n",
              "    <tr>\n",
              "      <th>3</th>\n",
              "      <td>23.68</td>\n",
              "      <td>3.31</td>\n",
              "      <td>Male</td>\n",
              "      <td>No</td>\n",
              "      <td>Sun</td>\n",
              "      <td>Dinner</td>\n",
              "      <td>2</td>\n",
              "    </tr>\n",
              "    <tr>\n",
              "      <th>4</th>\n",
              "      <td>24.59</td>\n",
              "      <td>3.61</td>\n",
              "      <td>Female</td>\n",
              "      <td>No</td>\n",
              "      <td>Sun</td>\n",
              "      <td>Dinner</td>\n",
              "      <td>4</td>\n",
              "    </tr>\n",
              "  </tbody>\n",
              "</table>\n",
              "</div>"
            ],
            "text/plain": [
              "   total_bill   tip     sex smoker  day    time  size\n",
              "0       16.99  1.01  Female     No  Sun  Dinner     2\n",
              "1       10.34  1.66    Male     No  Sun  Dinner     3\n",
              "2       21.01  3.50    Male     No  Sun  Dinner     3\n",
              "3       23.68  3.31    Male     No  Sun  Dinner     2\n",
              "4       24.59  3.61  Female     No  Sun  Dinner     4"
            ]
          },
          "execution_count": 3,
          "metadata": {},
          "output_type": "execute_result"
        }
      ],
      "source": [
        "import pandas as pd\n",
        "import seaborn as sns\n",
        "\n",
        "tips_df = sns.load_dataset('tips')\n",
        "tips_df.head()"
      ]
    },
    {
      "cell_type": "code",
      "execution_count": null,
      "metadata": {
        "colab": {
          "base_uri": "https://localhost:8080/"
        },
        "id": "GN7snH8DeIHu",
        "outputId": "7ab8b700-6af8-4759-96f4-92745cf2b124"
      },
      "outputs": [
        {
          "name": "stdout",
          "output_type": "stream",
          "text": [
            "<class 'pandas.core.frame.DataFrame'>\n",
            "RangeIndex: 244 entries, 0 to 243\n",
            "Data columns (total 7 columns):\n",
            " #   Column      Non-Null Count  Dtype   \n",
            "---  ------      --------------  -----   \n",
            " 0   total_bill  244 non-null    float64 \n",
            " 1   tip         244 non-null    float64 \n",
            " 2   sex         244 non-null    category\n",
            " 3   smoker      244 non-null    category\n",
            " 4   day         244 non-null    category\n",
            " 5   time        244 non-null    category\n",
            " 6   size        244 non-null    int64   \n",
            "dtypes: category(4), float64(2), int64(1)\n",
            "memory usage: 7.4 KB\n"
          ]
        }
      ],
      "source": [
        "tips_df.info()"
      ]
    },
    {
      "cell_type": "code",
      "execution_count": null,
      "metadata": {
        "colab": {
          "base_uri": "https://localhost:8080/",
          "height": 300
        },
        "id": "zn3Ea1AveIHv",
        "outputId": "aa41abfb-e9f6-4605-d0eb-13819a2884c5",
        "scrolled": true
      },
      "outputs": [
        {
          "data": {
            "text/html": [
              "<div>\n",
              "<style scoped>\n",
              "    .dataframe tbody tr th:only-of-type {\n",
              "        vertical-align: middle;\n",
              "    }\n",
              "\n",
              "    .dataframe tbody tr th {\n",
              "        vertical-align: top;\n",
              "    }\n",
              "\n",
              "    .dataframe thead th {\n",
              "        text-align: right;\n",
              "    }\n",
              "</style>\n",
              "<table border=\"1\" class=\"dataframe\">\n",
              "  <thead>\n",
              "    <tr style=\"text-align: right;\">\n",
              "      <th></th>\n",
              "      <th>total_bill</th>\n",
              "      <th>tip</th>\n",
              "      <th>size</th>\n",
              "    </tr>\n",
              "  </thead>\n",
              "  <tbody>\n",
              "    <tr>\n",
              "      <th>count</th>\n",
              "      <td>244.000000</td>\n",
              "      <td>244.000000</td>\n",
              "      <td>244.000000</td>\n",
              "    </tr>\n",
              "    <tr>\n",
              "      <th>mean</th>\n",
              "      <td>19.785943</td>\n",
              "      <td>2.998279</td>\n",
              "      <td>2.569672</td>\n",
              "    </tr>\n",
              "    <tr>\n",
              "      <th>std</th>\n",
              "      <td>8.902412</td>\n",
              "      <td>1.383638</td>\n",
              "      <td>0.951100</td>\n",
              "    </tr>\n",
              "    <tr>\n",
              "      <th>min</th>\n",
              "      <td>3.070000</td>\n",
              "      <td>1.000000</td>\n",
              "      <td>1.000000</td>\n",
              "    </tr>\n",
              "    <tr>\n",
              "      <th>25%</th>\n",
              "      <td>13.347500</td>\n",
              "      <td>2.000000</td>\n",
              "      <td>2.000000</td>\n",
              "    </tr>\n",
              "    <tr>\n",
              "      <th>50%</th>\n",
              "      <td>17.795000</td>\n",
              "      <td>2.900000</td>\n",
              "      <td>2.000000</td>\n",
              "    </tr>\n",
              "    <tr>\n",
              "      <th>75%</th>\n",
              "      <td>24.127500</td>\n",
              "      <td>3.562500</td>\n",
              "      <td>3.000000</td>\n",
              "    </tr>\n",
              "    <tr>\n",
              "      <th>max</th>\n",
              "      <td>50.810000</td>\n",
              "      <td>10.000000</td>\n",
              "      <td>6.000000</td>\n",
              "    </tr>\n",
              "  </tbody>\n",
              "</table>\n",
              "</div>"
            ],
            "text/plain": [
              "       total_bill         tip        size\n",
              "count  244.000000  244.000000  244.000000\n",
              "mean    19.785943    2.998279    2.569672\n",
              "std      8.902412    1.383638    0.951100\n",
              "min      3.070000    1.000000    1.000000\n",
              "25%     13.347500    2.000000    2.000000\n",
              "50%     17.795000    2.900000    2.000000\n",
              "75%     24.127500    3.562500    3.000000\n",
              "max     50.810000   10.000000    6.000000"
            ]
          },
          "execution_count": 5,
          "metadata": {},
          "output_type": "execute_result"
        }
      ],
      "source": [
        "tips_df.describe()"
      ]
    },
    {
      "cell_type": "code",
      "execution_count": null,
      "metadata": {
        "colab": {
          "base_uri": "https://localhost:8080/"
        },
        "id": "w62x12bVeIHw",
        "outputId": "4aba11fd-6562-4ca8-f408-ab01b5d1740f"
      },
      "outputs": [
        {
          "data": {
            "text/plain": [
              "Male      157\n",
              "Female     87\n",
              "Name: sex, dtype: int64"
            ]
          },
          "execution_count": 6,
          "metadata": {},
          "output_type": "execute_result"
        }
      ],
      "source": [
        "tips_df['sex'].value_counts()\n",
        "# tips_df['smoker'].value_counts()\n",
        "# tips_df['day'].value_counts()\n",
        "# tips_df['time'].value_counts()"
      ]
    },
    {
      "cell_type": "markdown",
      "metadata": {
        "id": "TY1RSkyfeIHx"
      },
      "source": [
        "## Hypothesis Tests\n",
        "\n",
        "### Normality test\n",
        "\n",
        "Let's check out the distribution of our numerical variables total_bill, tip, and size. We can first do this graphically."
      ]
    },
    {
      "cell_type": "code",
      "execution_count": null,
      "metadata": {
        "colab": {
          "base_uri": "https://localhost:8080/",
          "height": 452
        },
        "id": "fDvMjlhEeIHx",
        "outputId": "2dcbf0fc-308b-444b-a995-e94c0e2b0588"
      },
      "outputs": [
        {
          "data": {
            "image/png": "[encoded data removed]",
            "text/plain": [
              "<Figure size 640x480 with 1 Axes>"
            ]
          },
          "metadata": {},
          "output_type": "display_data"
        }
      ],
      "source": [
        "import matplotlib.pyplot as plt\n",
        "\n",
        "sns.histplot(tips_df['total_bill'])\n",
        "# sns.histplot(tips_df['tip'])\n",
        "# sns.histplot(tips_df['size'])\n",
        "\n",
        "plt.show()"
      ]
    },
    {
      "cell_type": "markdown",
      "metadata": {
        "id": "HBJ0WCEVeIHy"
      },
      "source": [
        "None of these variables seem to be normally distributed. Let's perform Shapiro-Wilk's normality test to confirm. For this test, remember:\n",
        "- H<sub>0</sub>: data is normally distributed\n",
        "- H<sub>a</sub>: data is not normally distributed\n",
        "\n",
        "The python library `scipy` contains functions that will do statistical tests for you."
      ]
    },
    {
      "cell_type": "code",
      "execution_count": null,
      "metadata": {
        "colab": {
          "base_uri": "https://localhost:8080/"
        },
        "id": "06mRNw6YeIHy",
        "outputId": "81497c2d-4a01-4401-a3e4-000a5133365e"
      },
      "outputs": [
        {
          "name": "stdout",
          "output_type": "stream",
          "text": [
            "0.000000000332445293516059336980\n"
          ]
        }
      ],
      "source": [
        "from scipy import stats\n",
        "stat, p = stats.shapiro(tips_df['total_bill'])\n",
        "print('%0.30f' % p)"
      ]
    },
    {
      "cell_type": "code",
      "execution_count": null,
      "metadata": {
        "colab": {
          "base_uri": "https://localhost:8080/"
        },
        "id": "NsASkUBDQ4xJ",
        "outputId": "041c7848-369e-4390-edb4-6e9346933495"
      },
      "outputs": [
        {
          "data": {
            "text/plain": [
              "3.3244529351605934e-10"
            ]
          },
          "execution_count": 9,
          "metadata": {},
          "output_type": "execute_result"
        }
      ],
      "source": [
        "p"
      ]
    },
    {
      "cell_type": "markdown",
      "metadata": {
        "id": "5_dLurD2eIHz"
      },
      "source": [
        "Most tests will return both a \"test statistic\" and a \"p-value\". To keep things simple, we can just focus on the p-value, but know you would come to the same conclusion if you used the test statistic. Since p<0.05, we reject the null hypothesis that the data is normally distributed.\n",
        "> Scientific notation can be used for very small or big numbers. E.g.: 5.13e-4 = 5.13 x 10<sup>-4</sup> = 0.000513\n",
        "\n",
        "> Later we will look at how performing a transformation on data can make it normally distributed.\n",
        "\n",
        "All other common hypothesis tests can done in a similar manner. Simply pass the approriate data into the scipy function, and it will return a result. The documentation for all of scipy's stats functions can be found [here](https://docs.scipy.org/doc/scipy/reference/stats.html). Note that there are more than just the hypothesis testing functions."
      ]
    },
    {
      "cell_type": "markdown",
      "metadata": {
        "id": "LIxSIndKeIHz"
      },
      "source": [
        "### Correlation test (numerical data)\n",
        "\n",
        "Going back to the dataset, we might hypothesize that the higher the total bill, the higher the tip should be, since most people tip on a percentage basis. We can check this hypothesis informally by viewing the data graphically via a scatter plot, and then more formally using a hypothesis test for linear correlation (Pearson's correlation coefficient test)."
      ]
    },
    {
      "cell_type": "code",
      "execution_count": null,
      "metadata": {
        "colab": {
          "base_uri": "https://localhost:8080/",
          "height": 468
        },
        "id": "RavYtbj0eIH0",
        "outputId": "7f50e5ab-dd70-435c-d7da-98736007e907"
      },
      "outputs": [
        {
          "data": {
            "text/plain": [
              "<AxesSubplot: xlabel='total_bill', ylabel='tip'>"
            ]
          },
          "execution_count": 10,
          "metadata": {},
          "output_type": "execute_result"
        },
        {
          "data": {
            "image/png": "[encoded data removed]",
            "text/plain": [
              "<Figure size 640x480 with 1 Axes>"
            ]
          },
          "metadata": {},
          "output_type": "display_data"
        }
      ],
      "source": [
        "sns.scatterplot(x=tips_df['total_bill'], y=tips_df['tip'], alpha=0.6)"
      ]
    },
    {
      "cell_type": "code",
      "execution_count": null,
      "metadata": {
        "colab": {
          "base_uri": "https://localhost:8080/"
        },
        "id": "IynPfHXBeIH0",
        "outputId": "b037e687-85d5-4724-b75e-c13288cd06ea"
      },
      "outputs": [
        {
          "name": "stdout",
          "output_type": "stream",
          "text": [
            "0.000000000000000000000000000000000669247064686404756518256596\n"
          ]
        }
      ],
      "source": [
        "stat, p = stats.pearsonr(tips_df['total_bill'], tips_df['tip'])\n",
        "print('%0.60f' % p)"
      ]
    },
    {
      "cell_type": "markdown",
      "metadata": {
        "id": "xhmLmWvceIH1"
      },
      "source": [
        "Whenever we perform a hypothesis test, we must remember what the null and alternative hypotheses are. For the Pearson's correlation coefficient test:\n",
        "- H<sub>0</sub>: no correlation between the two variables\n",
        "- H<sub>a</sub>: correlation between the two variables\n",
        "\n",
        "Since the p-value is <0.05, we can conclude that there is significant correlation between total_bill and tip.\n",
        "\n",
        "### Independence test (categorical data)\n",
        "\n",
        "We can also test correlation between categorical variables by testing independence. Suppose we are interested in if there is any dependence between sex and smoker. We can use the **chi-squared test** for this, however the chi-squared function requires a \"contingency table\" with frequencies as input, instead of just the raw data. Luckily we can easily create this table using panda's `crosstab` function."
      ]
    },
    {
      "cell_type": "code",
      "execution_count": null,
      "metadata": {
        "colab": {
          "base_uri": "https://localhost:8080/",
          "height": 143
        },
        "id": "wnWpNzqWeIH2",
        "outputId": "4afe0bac-0837-4f14-89b8-9f55f674d185"
      },
      "outputs": [
        {
          "data": {
            "text/html": [
              "<div>\n",
              "<style scoped>\n",
              "    .dataframe tbody tr th:only-of-type {\n",
              "        vertical-align: middle;\n",
              "    }\n",
              "\n",
              "    .dataframe tbody tr th {\n",
              "        vertical-align: top;\n",
              "    }\n",
              "\n",
              "    .dataframe thead th {\n",
              "        text-align: right;\n",
              "    }\n",
              "</style>\n",
              "<table border=\"1\" class=\"dataframe\">\n",
              "  <thead>\n",
              "    <tr style=\"text-align: right;\">\n",
              "      <th>time</th>\n",
              "      <th>Lunch</th>\n",
              "      <th>Dinner</th>\n",
              "    </tr>\n",
              "    <tr>\n",
              "      <th>sex</th>\n",
              "      <th></th>\n",
              "      <th></th>\n",
              "    </tr>\n",
              "  </thead>\n",
              "  <tbody>\n",
              "    <tr>\n",
              "      <th>Male</th>\n",
              "      <td>33</td>\n",
              "      <td>124</td>\n",
              "    </tr>\n",
              "    <tr>\n",
              "      <th>Female</th>\n",
              "      <td>35</td>\n",
              "      <td>52</td>\n",
              "    </tr>\n",
              "  </tbody>\n",
              "</table>\n",
              "</div>"
            ],
            "text/plain": [
              "time    Lunch  Dinner\n",
              "sex                  \n",
              "Male       33     124\n",
              "Female     35      52"
            ]
          },
          "execution_count": 12,
          "metadata": {},
          "output_type": "execute_result"
        }
      ],
      "source": [
        "contingency = pd.crosstab(tips_df['sex'], tips_df['time'])\n",
        "contingency"
      ]
    },
    {
      "cell_type": "markdown",
      "metadata": {
        "id": "jmCIQImIeIH3"
      },
      "source": [
        "As you can see, a contingency table just reformats our raw data into a table of counts for each combination of categories. This is the input used for scipy's chi-squared function. We can see that the distribution of smokers/non-smokers across the different sexes seems pretty similar. This indicates sex and smoker are probably independent. Of course we can perform a hypothesis test to formalize our conclusion."
      ]
    },
    {
      "cell_type": "code",
      "execution_count": null,
      "metadata": {
        "colab": {
          "base_uri": "https://localhost:8080/"
        },
        "id": "2-8TJhYqeIH4",
        "outputId": "1ade8098-d33d-4226-8c26-47fb5cb04c6c"
      },
      "outputs": [
        {
          "name": "stdout",
          "output_type": "stream",
          "text": [
            "0.002237400118075248\n"
          ]
        }
      ],
      "source": [
        "stat, p, dof, expected = stats.chi2_contingency(contingency)\n",
        "print(p)"
      ]
    },
    {
      "cell_type": "code",
      "execution_count": null,
      "metadata": {
        "colab": {
          "base_uri": "https://localhost:8080/"
        },
        "id": "TNTiPr587mWb",
        "outputId": "6189f8ff-8d61-4af6-946d-9ba4fec8ed10"
      },
      "outputs": [
        {
          "data": {
            "text/plain": [
              "0.002237400118075248"
            ]
          },
          "execution_count": 14,
          "metadata": {},
          "output_type": "execute_result"
        }
      ],
      "source": [
        "p"
      ]
    },
    {
      "cell_type": "markdown",
      "metadata": {
        "id": "yx5Se9TmeIH4"
      },
      "source": [
        "With a p-value>0.05, we cannot reject the null hypothesis that sex and smoker are independent."
      ]
    },
    {
      "cell_type": "markdown",
      "metadata": {
        "id": "zaqfVp3UeIH5"
      },
      "source": [
        "### T-tests\n",
        "A more interesting question we could ask from our data is: on average, do males and females tip different amounts? When comparing averages between two groups, we can use a T-test. There are actually a few variations of the t-test, based on other factors (equal variances, paired data). We will examine this in more detail shortly.\n",
        "\n",
        "For now, let's start by just using the default t-test from scipy. Once again, we will need to reformat our data before we can feed it into the t-test function. We need two series of tip data--one for males and one for females. We can do this easily using pandas."
      ]
    },
    {
      "cell_type": "code",
      "execution_count": null,
      "metadata": {
        "id": "Bq8c_nXr-599"
      },
      "outputs": [],
      "source": [
        "tips_df['tip_as_percent'] = tips_df['tip'] / tips_df['total_bill']"
      ]
    },
    {
      "cell_type": "code",
      "execution_count": null,
      "metadata": {
        "colab": {
          "base_uri": "https://localhost:8080/"
        },
        "id": "DxPiZ5fgeIH5",
        "outputId": "96c9cbf0-6537-4795-adc7-44c2e1606af7"
      },
      "outputs": [
        {
          "name": "stdout",
          "output_type": "stream",
          "text": [
            "0.15765054700429743 0.16649073632892478\n"
          ]
        }
      ],
      "source": [
        "male_tips = tips_df[tips_df['sex']=='Male']['tip_as_percent']\n",
        "female_tips = tips_df[tips_df['sex']=='Female']['tip_as_percent']\n",
        "print(male_tips.mean(), female_tips.mean())"
      ]
    },
    {
      "cell_type": "markdown",
      "metadata": {
        "id": "YKfwwsrUeIH5"
      },
      "source": [
        "We can also view this comparison visually out of curiosity."
      ]
    },
    {
      "cell_type": "code",
      "execution_count": null,
      "metadata": {
        "colab": {
          "base_uri": "https://localhost:8080/",
          "height": 449
        },
        "id": "xYFPJ_paeIH6",
        "outputId": "e2051153-9996-4390-d29d-700ce0d41167"
      },
      "outputs": [
        {
          "data": {
            "image/png": "[encoded data removed]",
            "text/plain": [
              "<Figure size 640x480 with 1 Axes>"
            ]
          },
          "metadata": {},
          "output_type": "display_data"
        }
      ],
      "source": [
        "sns.barplot(data=tips_df, x='sex', y='tip_as_percent')\n",
        "plt.show()"
      ]
    },
    {
      "cell_type": "markdown",
      "metadata": {
        "id": "NyIh4gS7eIH6"
      },
      "source": [
        "The two averages seem close, but are they significantly different? This is a great demo on why we need hypothesis testing! To handle cases where we are unsure what to conclude."
      ]
    },
    {
      "cell_type": "code",
      "execution_count": null,
      "metadata": {
        "colab": {
          "base_uri": "https://localhost:8080/"
        },
        "id": "V1BMgAz1eIH6",
        "outputId": "12657ea5-76bf-426c-b7d3-5183ec1551ba"
      },
      "outputs": [
        {
          "data": {
            "text/plain": [
              "0.2797103849605489"
            ]
          },
          "execution_count": 18,
          "metadata": {},
          "output_type": "execute_result"
        }
      ],
      "source": [
        "stat, p = stats.ttest_ind(male_tips, female_tips)\n",
        "p"
      ]
    },
    {
      "cell_type": "markdown",
      "metadata": {
        "id": "BZ_tzeXseIH6"
      },
      "source": [
        "Remember for a t-test, the hypotheses are:\n",
        "- H<sub>0</sub>: averages are equal\n",
        "- H<sub>a</sub>: averages are not equal\n",
        "\n",
        "So since our p-value is >0.05, we do not reject the null hypothesis that the averages are equal. Therefore, we would conclude that there is not enough evidence to conclude that there is a significant difference between the average tip amount of males vs females.\n",
        "\n",
        "#### T-test assumptions\n",
        "\n",
        "The default t-test actually assumes that the variance of the data among the two groups is equal. I.e. the variance of male tips is equal to the variance of female tips. Was it valid to make this assumption? Well there's an <del>app</del> hypothesis test for that!\n",
        "\n",
        "### Equal variance test\n",
        "\n",
        "In statistics, **Levene's test** is a popular test for equal variances. There is also Bartlett's test (and others) that also test for equal variances, but some of these other tests require more assumptions. To keep things simple, let's just focus on the widely used Levene's test. Here we will just use it to compare the variances of two populations, but it can be extended to compare variances among more than two populations. Levene's test has the following hypotheses:\n",
        "- H<sub>0</sub>: variances are equal\n",
        "- H<sub>a</sub>: variances are not equal"
      ]
    },
    {
      "cell_type": "code",
      "execution_count": null,
      "metadata": {
        "colab": {
          "base_uri": "https://localhost:8080/"
        },
        "id": "f1HIv_ZEeIH7",
        "outputId": "734625ee-0318-495c-a305-e748400de8f0"
      },
      "outputs": [
        {
          "name": "stdout",
          "output_type": "stream",
          "text": [
            "[0.004196172792769981, 0.002876362058404039]\n"
          ]
        }
      ],
      "source": [
        "male_tips_var = male_tips.std()**2\n",
        "female_tips_var = female_tips.std()**2\n",
        "\n",
        "print([male_tips_var, female_tips_var])"
      ]
    },
    {
      "cell_type": "code",
      "execution_count": null,
      "metadata": {
        "colab": {
          "base_uri": "https://localhost:8080/"
        },
        "id": "rWpYBbJoeIH7",
        "outputId": "04887737-6287-4026-e88b-f2f8b220828c"
      },
      "outputs": [
        {
          "data": {
            "text/plain": [
              "0.49864785897998365"
            ]
          },
          "execution_count": 20,
          "metadata": {},
          "output_type": "execute_result"
        }
      ],
      "source": [
        "stat, p = stats.levene(male_tips, female_tips)\n",
        "p"
      ]
    },
    {
      "cell_type": "markdown",
      "metadata": {
        "id": "_CIMQAoqeIH7"
      },
      "source": [
        "Since the p-value>0.05, we cannot conclude unequal variances, and so we were correct in using the original (default) t-test. For educational purposes, if we want to run the t-test without the equal variance assumption, we just need to pass in an extra parameter."
      ]
    },
    {
      "cell_type": "code",
      "execution_count": null,
      "metadata": {
        "colab": {
          "base_uri": "https://localhost:8080/"
        },
        "id": "y_VoRfbJeIH8",
        "outputId": "76ebaed9-29af-4dbb-b8bf-eae3b231167a",
        "scrolled": true
      },
      "outputs": [
        {
          "data": {
            "text/plain": [
              "0.2542456188927583"
            ]
          },
          "execution_count": 21,
          "metadata": {},
          "output_type": "execute_result"
        }
      ],
      "source": [
        "# t-test for equal averages, without the equal variance assumption.\n",
        "stat, p = stats.ttest_ind(male_tips, female_tips, equal_var=False)\n",
        "p"
      ]
    },
    {
      "cell_type": "markdown",
      "metadata": {
        "id": "EZI0O4nEeIH8"
      },
      "source": [
        "### T-test for paired data\n",
        "\n",
        "If we have *paired data*, there is yet another t-test variation for this scenario.\n",
        "\n",
        "**Paired data** is data the comes in pairs, so it is dependent. For our male/female tip data, the data was taken at different times and was independent of each other. We could shuffle the ordering of our data in the groups and it wouldn't make a difference.\n",
        "\n",
        "On the other hand, paired data occurs when there is a natural matching in the data. For example, the total_bill and tip columns are paired data - they correspond to the same customer. So if I wanted to test if the average total_bill was equal to the average tip, we would used a T-test for paired data.\n",
        "> Note: total_bill is obviously much larger than tip, but we will do this test anyway for educational purposes."
      ]
    },
    {
      "cell_type": "code",
      "execution_count": null,
      "metadata": {
        "colab": {
          "base_uri": "https://localhost:8080/"
        },
        "id": "u_aAyIwceIH8",
        "outputId": "1ec3da64-be48-46ad-fa92-2e16757a0c29"
      },
      "outputs": [
        {
          "data": {
            "text/plain": [
              "8.020018605020848e-91"
            ]
          },
          "execution_count": 22,
          "metadata": {},
          "output_type": "execute_result"
        }
      ],
      "source": [
        "# t-test for paired data\n",
        "stat, p = stats.ttest_rel(tips_df['total_bill'], tips_df['tip'])\n",
        "p"
      ]
    },
    {
      "cell_type": "markdown",
      "metadata": {
        "id": "McME3L3eeIH8"
      },
      "source": [
        "What is your conclusion, based on the result of this test?"
      ]
    },
    {
      "cell_type": "markdown",
      "metadata": {
        "id": "bg0ZJrXVeIH9"
      },
      "source": [
        "### Testing equal averages with more than two groups.\n",
        "\n",
        "If we want to test averages across more than two groups, we can use the one-way ANOVA test. For this test:\n",
        "- H<sub>0</sub>: all averages are equal\n",
        "- H<sub>a</sub>: one or more averages are not equal\n",
        "\n",
        "Perhaps we are interested in if people tip differently on each day of the week (Thu, Fri, Sat, Sun). Let's first take a look at this visually before we hypothesis test."
      ]
    },
    {
      "cell_type": "code",
      "execution_count": null,
      "metadata": {
        "colab": {
          "base_uri": "https://localhost:8080/",
          "height": 449
        },
        "id": "wcPll8CceIH9",
        "outputId": "cee3522e-400a-4f52-c798-b9da93c0a917"
      },
      "outputs": [
        {
          "data": {
            "image/png": "[encoded data removed]",
            "text/plain": [
              "<Figure size 640x480 with 1 Axes>"
            ]
          },
          "metadata": {},
          "output_type": "display_data"
        }
      ],
      "source": [
        "sns.barplot(data=tips_df, x='day', y='tip')\n",
        "plt.show()"
      ]
    },
    {
      "cell_type": "markdown",
      "metadata": {
        "id": "iMZ_obUPeIH9"
      },
      "source": [
        "It looks like the average tip on Sunday is larger than the rest, but is it significantly different? If we create series containing tips for each day of the week, we can use this as input for the one-way ANOVA test function."
      ]
    },
    {
      "cell_type": "code",
      "execution_count": null,
      "metadata": {
        "colab": {
          "base_uri": "https://localhost:8080/"
        },
        "id": "h_MF4lt5eIH9",
        "outputId": "31119b6d-20c1-4eb6-b6cf-92df050cad6a"
      },
      "outputs": [
        {
          "data": {
            "text/plain": [
              "0.1735885553040592"
            ]
          },
          "execution_count": 24,
          "metadata": {},
          "output_type": "execute_result"
        }
      ],
      "source": [
        "thu_tips = tips_df[tips_df['day']=='Thur']['tip']\n",
        "fri_tips = tips_df[tips_df['day']=='Fri']['tip']\n",
        "sat_tips = tips_df[tips_df['day']=='Sat']['tip']\n",
        "sun_tips = tips_df[tips_df['day']=='Sun']['tip']\n",
        "\n",
        "stat, p = stats.f_oneway(thu_tips, fri_tips, sat_tips, sun_tips)\n",
        "p"
      ]
    },
    {
      "cell_type": "markdown",
      "metadata": {
        "id": "syCOTYupeIH-"
      },
      "source": [
        "Since p-value > 0.05, there is not a significant difference in average tips among all of the days."
      ]
    },
    {
      "cell_type": "code",
      "execution_count": null,
      "metadata": {
        "colab": {
          "base_uri": "https://localhost:8080/",
          "height": 423
        },
        "id": "yPYpJl1wvCk3",
        "outputId": "279ea276-a961-4c4e-f06f-8ee726c9e6af"
      },
      "outputs": [
        {
          "data": {
            "text/html": [
              "<div>\n",
              "<style scoped>\n",
              "    .dataframe tbody tr th:only-of-type {\n",
              "        vertical-align: middle;\n",
              "    }\n",
              "\n",
              "    .dataframe tbody tr th {\n",
              "        vertical-align: top;\n",
              "    }\n",
              "\n",
              "    .dataframe thead th {\n",
              "        text-align: right;\n",
              "    }\n",
              "</style>\n",
              "<table border=\"1\" class=\"dataframe\">\n",
              "  <thead>\n",
              "    <tr style=\"text-align: right;\">\n",
              "      <th></th>\n",
              "      <th>total_bill</th>\n",
              "      <th>tip</th>\n",
              "      <th>sex</th>\n",
              "      <th>smoker</th>\n",
              "      <th>day</th>\n",
              "      <th>time</th>\n",
              "      <th>size</th>\n",
              "      <th>tip_as_percent</th>\n",
              "    </tr>\n",
              "  </thead>\n",
              "  <tbody>\n",
              "    <tr>\n",
              "      <th>0</th>\n",
              "      <td>16.99</td>\n",
              "      <td>1.01</td>\n",
              "      <td>Female</td>\n",
              "      <td>No</td>\n",
              "      <td>Sun</td>\n",
              "      <td>Dinner</td>\n",
              "      <td>2</td>\n",
              "      <td>0.059447</td>\n",
              "    </tr>\n",
              "    <tr>\n",
              "      <th>1</th>\n",
              "      <td>10.34</td>\n",
              "      <td>1.66</td>\n",
              "      <td>Male</td>\n",
              "      <td>No</td>\n",
              "      <td>Sun</td>\n",
              "      <td>Dinner</td>\n",
              "      <td>3</td>\n",
              "      <td>0.160542</td>\n",
              "    </tr>\n",
              "    <tr>\n",
              "      <th>2</th>\n",
              "      <td>21.01</td>\n",
              "      <td>3.50</td>\n",
              "      <td>Male</td>\n",
              "      <td>No</td>\n",
              "      <td>Sun</td>\n",
              "      <td>Dinner</td>\n",
              "      <td>3</td>\n",
              "      <td>0.166587</td>\n",
              "    </tr>\n",
              "    <tr>\n",
              "      <th>3</th>\n",
              "      <td>23.68</td>\n",
              "      <td>3.31</td>\n",
              "      <td>Male</td>\n",
              "      <td>No</td>\n",
              "      <td>Sun</td>\n",
              "      <td>Dinner</td>\n",
              "      <td>2</td>\n",
              "      <td>0.139780</td>\n",
              "    </tr>\n",
              "    <tr>\n",
              "      <th>4</th>\n",
              "      <td>24.59</td>\n",
              "      <td>3.61</td>\n",
              "      <td>Female</td>\n",
              "      <td>No</td>\n",
              "      <td>Sun</td>\n",
              "      <td>Dinner</td>\n",
              "      <td>4</td>\n",
              "      <td>0.146808</td>\n",
              "    </tr>\n",
              "    <tr>\n",
              "      <th>...</th>\n",
              "      <td>...</td>\n",
              "      <td>...</td>\n",
              "      <td>...</td>\n",
              "      <td>...</td>\n",
              "      <td>...</td>\n",
              "      <td>...</td>\n",
              "      <td>...</td>\n",
              "      <td>...</td>\n",
              "    </tr>\n",
              "    <tr>\n",
              "      <th>239</th>\n",
              "      <td>29.03</td>\n",
              "      <td>5.92</td>\n",
              "      <td>Male</td>\n",
              "      <td>No</td>\n",
              "      <td>Sat</td>\n",
              "      <td>Dinner</td>\n",
              "      <td>3</td>\n",
              "      <td>0.203927</td>\n",
              "    </tr>\n",
              "    <tr>\n",
              "      <th>240</th>\n",
              "      <td>27.18</td>\n",
              "      <td>2.00</td>\n",
              "      <td>Female</td>\n",
              "      <td>Yes</td>\n",
              "      <td>Sat</td>\n",
              "      <td>Dinner</td>\n",
              "      <td>2</td>\n",
              "      <td>0.073584</td>\n",
              "    </tr>\n",
              "    <tr>\n",
              "      <th>241</th>\n",
              "      <td>22.67</td>\n",
              "      <td>2.00</td>\n",
              "      <td>Male</td>\n",
              "      <td>Yes</td>\n",
              "      <td>Sat</td>\n",
              "      <td>Dinner</td>\n",
              "      <td>2</td>\n",
              "      <td>0.088222</td>\n",
              "    </tr>\n",
              "    <tr>\n",
              "      <th>242</th>\n",
              "      <td>17.82</td>\n",
              "      <td>1.75</td>\n",
              "      <td>Male</td>\n",
              "      <td>No</td>\n",
              "      <td>Sat</td>\n",
              "      <td>Dinner</td>\n",
              "      <td>2</td>\n",
              "      <td>0.098204</td>\n",
              "    </tr>\n",
              "    <tr>\n",
              "      <th>243</th>\n",
              "      <td>18.78</td>\n",
              "      <td>3.00</td>\n",
              "      <td>Female</td>\n",
              "      <td>No</td>\n",
              "      <td>Thur</td>\n",
              "      <td>Dinner</td>\n",
              "      <td>2</td>\n",
              "      <td>0.159744</td>\n",
              "    </tr>\n",
              "  </tbody>\n",
              "</table>\n",
              "<p>244 rows × 8 columns</p>\n",
              "</div>"
            ],
            "text/plain": [
              "     total_bill   tip     sex smoker   day    time  size  tip_as_percent\n",
              "0         16.99  1.01  Female     No   Sun  Dinner     2        0.059447\n",
              "1         10.34  1.66    Male     No   Sun  Dinner     3        0.160542\n",
              "2         21.01  3.50    Male     No   Sun  Dinner     3        0.166587\n",
              "3         23.68  3.31    Male     No   Sun  Dinner     2        0.139780\n",
              "4         24.59  3.61  Female     No   Sun  Dinner     4        0.146808\n",
              "..          ...   ...     ...    ...   ...     ...   ...             ...\n",
              "239       29.03  5.92    Male     No   Sat  Dinner     3        0.203927\n",
              "240       27.18  2.00  Female    Yes   Sat  Dinner     2        0.073584\n",
              "241       22.67  2.00    Male    Yes   Sat  Dinner     2        0.088222\n",
              "242       17.82  1.75    Male     No   Sat  Dinner     2        0.098204\n",
              "243       18.78  3.00  Female     No  Thur  Dinner     2        0.159744\n",
              "\n",
              "[244 rows x 8 columns]"
            ]
          },
          "execution_count": 25,
          "metadata": {},
          "output_type": "execute_result"
        }
      ],
      "source": [
        "tips_df"
      ]
    },
    {
      "cell_type": "markdown",
      "metadata": {
        "id": "bYTy37xQeIH-"
      },
      "source": [
        "\n",
        "## Scaling Data\n",
        "Scaling data is an important concept that will be useful later on in the course. For now, let's just take a look on how to perform scaling. There are two common scaling methods: **standardizing** and **min-max normalization**.\n",
        "\n",
        "### Standardizing\n",
        "Standardizing centers the data at zero (mean=0) and measures the number of standard deviations away from the mean. This process can be represented mathematically:\n",
        "$$\n",
        "\\dfrac{x_i - mean(x)}{std(x)}\n",
        "$$\n",
        "Let's standardize the total_bill column. We will also view its distribution before and after standardization."
      ]
    },
    {
      "cell_type": "code",
      "execution_count": null,
      "metadata": {
        "colab": {
          "base_uri": "https://localhost:8080/",
          "height": 452
        },
        "id": "Zr91k9oaeIH-",
        "outputId": "b89f779a-ee3b-4e15-84a9-092b3ff5e594"
      },
      "outputs": [
        {
          "data": {
            "image/png": "[encoded data removed]",
            "text/plain": [
              "<Figure size 640x480 with 1 Axes>"
            ]
          },
          "metadata": {},
          "output_type": "display_data"
        }
      ],
      "source": [
        "total_bill = tips_df['total_bill'].values\n",
        "\n",
        "# total_bill = np.append(total_bill, [0.01, 200])\n",
        "sns.histplot(data=tips_df, x='total_bill')\n",
        "plt.show()"
      ]
    },
    {
      "cell_type": "code",
      "execution_count": null,
      "metadata": {
        "colab": {
          "base_uri": "https://localhost:8080/",
          "height": 452
        },
        "id": "2JiKu3TweIH-",
        "outputId": "fabe4954-4bd5-469f-b0f0-6723b6e6cb03"
      },
      "outputs": [
        {
          "data": {
            "image/png": "[encoded data removed]",
            "text/plain": [
              "<Figure size 640x480 with 1 Axes>"
            ]
          },
          "metadata": {},
          "output_type": "display_data"
        }
      ],
      "source": [
        "total_bill_standardized = (tips_df['total_bill'] - tips_df['total_bill'].mean()) / tips_df['total_bill'].std()\n",
        "sns.histplot(total_bill_standardized)\n",
        "plt.show()"
      ]
    },
    {
      "cell_type": "markdown",
      "metadata": {
        "id": "V1MgfM01eIH-"
      },
      "source": [
        "Notice how the data now seems to have a mean of zero, and a standard deviation of around 1. We can verify this."
      ]
    },
    {
      "cell_type": "code",
      "execution_count": null,
      "metadata": {
        "colab": {
          "base_uri": "https://localhost:8080/"
        },
        "id": "BBok6zV9eIH_",
        "outputId": "99d73bbf-d0ec-4e7e-94e5-3c09ed465f0e"
      },
      "outputs": [
        {
          "name": "stdout",
          "output_type": "stream",
          "text": [
            "-6.028875031263658e-17 1.0\n"
          ]
        }
      ],
      "source": [
        "print(total_bill_standardized.mean(), total_bill_standardized.std())"
      ]
    },
    {
      "cell_type": "markdown",
      "metadata": {
        "id": "_qAo2c7FeIH_"
      },
      "source": [
        "> Note since standardization is a column task in data science, instead of having to do this manually everytime, later in the course you will see a Python \"class\" that can do this for you (from the sklearn library).\n",
        "\n",
        "### Normalization\n",
        "\n",
        "Another popular form of scaling is min-max normalization. This essentially squishes the data into a desired range (0 to 1 by default). This process can be represented mathematically:\n",
        "$$\n",
        "\\dfrac{x_i - min(x)}{max(x) - min(x)}\n",
        "$$\n",
        "Let's once again do this on our total_bill data."
      ]
    },
    {
      "cell_type": "code",
      "execution_count": null,
      "metadata": {
        "colab": {
          "base_uri": "https://localhost:8080/",
          "height": 452
        },
        "id": "MSZKD3e2eIH_",
        "outputId": "da9e38da-7fac-4eb0-f366-e254eaacf4ec"
      },
      "outputs": [
        {
          "data": {
            "image/png": "[encoded data removed]",
            "text/plain": [
              "<Figure size 640x480 with 1 Axes>"
            ]
          },
          "metadata": {},
          "output_type": "display_data"
        }
      ],
      "source": [
        "sns.histplot(data=tips_df, x='total_bill')\n",
        "plt.show()"
      ]
    },
    {
      "cell_type": "code",
      "execution_count": null,
      "metadata": {
        "colab": {
          "base_uri": "https://localhost:8080/",
          "height": 452
        },
        "id": "DJc1HIGEeIH_",
        "outputId": "b0f1c98e-f5b4-4640-9c86-154cb7b09be9"
      },
      "outputs": [
        {
          "data": {
            "image/png": "[encoded data removed]",
            "text/plain": [
              "<Figure size 640x480 with 1 Axes>"
            ]
          },
          "metadata": {},
          "output_type": "display_data"
        }
      ],
      "source": [
        "total_bill_normalized = (tips_df['total_bill'] - tips_df['total_bill'].min()) / (tips_df['total_bill'].max() - tips_df['total_bill'].min())\n",
        "sns.histplot(total_bill_normalized)\n",
        "plt.show()"
      ]
    },
    {
      "cell_type": "markdown",
      "metadata": {
        "id": "C9BQZqWoeIIA"
      },
      "source": [
        "> There is also a Python \"class\" that can do this for you (from the sklearn library).\n",
        "\n",
        "If we want to squish our data into an different interval than 0 to 1, we can now just multiply by the new desired range and add the start of the new desired interval."
      ]
    },
    {
      "cell_type": "code",
      "execution_count": null,
      "metadata": {
        "colab": {
          "base_uri": "https://localhost:8080/",
          "height": 452
        },
        "id": "d3wfLnwKeIIA",
        "outputId": "7860192b-2a7b-4ed4-f70d-242c7c6f57ce"
      },
      "outputs": [
        {
          "data": {
            "image/png": "[encoded data removed]",
            "text/plain": [
              "<Figure size 640x480 with 1 Axes>"
            ]
          },
          "metadata": {},
          "output_type": "display_data"
        }
      ],
      "source": [
        "start_new_interval = -5\n",
        "end_new_interval = 5\n",
        "new_range = end_new_interval - start_new_interval\n",
        "\n",
        "total_bill_normalized_new_interval = total_bill_normalized*new_range + start_new_interval\n",
        "sns.histplot(total_bill_normalized_new_interval)\n",
        "plt.show()"
      ]
    },
    {
      "cell_type": "markdown",
      "metadata": {
        "id": "eDW1xpTteIIA"
      },
      "source": [
        "## Transforming Data\n",
        "\n",
        "Lastly, let's talk about transforming data! Sometimes we require our data to be normally distributed. If our data is not normally distributed, we can try to perform transformations to turn it into a normal distribution.\n",
        "\n",
        "![](images/transformations.png)\n",
        "\n",
        "Recall from earlier in this notebook that we saw total_bill was right-skewed and failed the Shapiro-Wilk test for normality."
      ]
    },
    {
      "cell_type": "code",
      "execution_count": null,
      "metadata": {
        "colab": {
          "base_uri": "https://localhost:8080/",
          "height": 470
        },
        "id": "1SiO_VNqeIIA",
        "outputId": "ef3ac02d-05d4-4890-d38a-6d808d875029"
      },
      "outputs": [
        {
          "name": "stdout",
          "output_type": "stream",
          "text": [
            "3.3244529351605934e-10\n"
          ]
        },
        {
          "data": {
            "image/png": "[encoded data removed]",
            "text/plain": [
              "<Figure size 640x480 with 1 Axes>"
            ]
          },
          "metadata": {},
          "output_type": "display_data"
        }
      ],
      "source": [
        "stat, p = stats.shapiro(tips_df['total_bill'])\n",
        "print(p)\n",
        "sns.histplot(data=tips_df, x='total_bill')\n",
        "plt.show()"
      ]
    },
    {
      "cell_type": "markdown",
      "metadata": {
        "id": "46dMicc9eIIA"
      },
      "source": [
        "### Right-skewed data\n",
        "For right-skewed data, often a log transformation or some root transformation (square-root, cube-root, etc.) can be used.\n",
        "> Be careful with negatives, since you can't take the log or the square root of a negative number! You can get around this by just doing some transformation to make it positive (like shifting by the minimum)."
      ]
    },
    {
      "cell_type": "code",
      "execution_count": null,
      "metadata": {
        "colab": {
          "base_uri": "https://localhost:8080/",
          "height": 468
        },
        "id": "WqENIZ1NeIIA",
        "outputId": "3286fa86-0d21-412c-ec18-506ea92d43d3"
      },
      "outputs": [
        {
          "name": "stdout",
          "output_type": "stream",
          "text": [
            "0.157652348279953\n"
          ]
        },
        {
          "data": {
            "image/png": "[encoded data removed]",
            "text/plain": [
              "<Figure size 640x480 with 1 Axes>"
            ]
          },
          "metadata": {},
          "output_type": "display_data"
        }
      ],
      "source": [
        "import numpy as np\n",
        "log_total_bill = np.log(tips_df['total_bill'])\n",
        "\n",
        "stat, p = stats.shapiro(log_total_bill)\n",
        "print(p)\n",
        "sns.histplot(log_total_bill)\n",
        "plt.show()"
      ]
    },
    {
      "cell_type": "code",
      "execution_count": null,
      "metadata": {
        "colab": {
          "base_uri": "https://localhost:8080/",
          "height": 468
        },
        "id": "P7h8lT0xeIIB",
        "outputId": "7a0ce88c-355d-4c9f-9ef9-027296c73367"
      },
      "outputs": [
        {
          "name": "stdout",
          "output_type": "stream",
          "text": [
            "0.12955217063426971\n"
          ]
        },
        {
          "data": {
            "image/png": "[encoded data removed]",
            "text/plain": [
              "<Figure size 640x480 with 1 Axes>"
            ]
          },
          "metadata": {},
          "output_type": "display_data"
        }
      ],
      "source": [
        "sqrt_total_bill = tips_df['total_bill']**(1/5) # will need more than square root in this case\n",
        "\n",
        "stat, p = stats.shapiro(sqrt_total_bill)\n",
        "print(p)\n",
        "sns.histplot(sqrt_total_bill)\n",
        "plt.show()"
      ]
    },
    {
      "cell_type": "markdown",
      "metadata": {
        "id": "XtDEXqoQeIIB"
      },
      "source": [
        "### Left-skewed data\n",
        "For left-skewed data, we often just convert it into right-skewed data (by subtracting it from the max) and then use the same techniques :)\n",
        "\n",
        "Since we don't have left-skewed data in this dataset, let's do the following (for educational purposes):\n",
        "1. turn our original right-skewed total_tip data into left-skewed data (and pretend this is our original).\n",
        "2. turn this data into a normal distribution."
      ]
    },
    {
      "cell_type": "code",
      "execution_count": null,
      "metadata": {
        "colab": {
          "base_uri": "https://localhost:8080/",
          "height": 470
        },
        "id": "g309EosreIIB",
        "outputId": "0a8600b5-f9a3-4e05-d8d3-762819037113"
      },
      "outputs": [
        {
          "data": {
            "text/plain": [
              "<AxesSubplot: xlabel='total_bill', ylabel='Count'>"
            ]
          },
          "execution_count": 35,
          "metadata": {},
          "output_type": "execute_result"
        },
        {
          "data": {
            "image/png": "[encoded data removed]",
            "text/plain": [
              "<Figure size 640x480 with 1 Axes>"
            ]
          },
          "metadata": {},
          "output_type": "display_data"
        }
      ],
      "source": [
        "# turn right-skewed original tip data and make it left-skewed\n",
        "left_skew_total_tip = tips_df['total_bill'].max() - tips_df['total_bill']\n",
        "sns.histplot(left_skew_total_tip)"
      ]
    },
    {
      "cell_type": "markdown",
      "metadata": {
        "id": "VcQfS7dGeIIB"
      },
      "source": [
        "So let's pretend this is our original and want to turn it into a normal distribution."
      ]
    },
    {
      "cell_type": "code",
      "execution_count": null,
      "metadata": {
        "colab": {
          "base_uri": "https://localhost:8080/",
          "height": 486
        },
        "id": "gGzwEtUieIIC",
        "outputId": "5164824c-cbf3-4490-e719-c83878ddb006"
      },
      "outputs": [
        {
          "name": "stdout",
          "output_type": "stream",
          "text": [
            "8.463678386760876e-05\n"
          ]
        },
        {
          "data": {
            "text/plain": [
              "<AxesSubplot: xlabel='total_bill', ylabel='Count'>"
            ]
          },
          "execution_count": 36,
          "metadata": {},
          "output_type": "execute_result"
        },
        {
          "data": {
            "image/png": "[encoded data removed]",
            "text/plain": [
              "<Figure size 640x480 with 1 Axes>"
            ]
          },
          "metadata": {},
          "output_type": "display_data"
        }
      ],
      "source": [
        "log_left_skew = np.log(left_skew_total_tip.max() - left_skew_total_tip + 1) # +1 to avoid log of zero\n",
        "stat, p = stats.shapiro(log_left_skew)\n",
        "print(p)\n",
        "sns.histplot(log_left_skew)"
      ]
    },
    {
      "cell_type": "markdown",
      "metadata": {
        "id": "J4T8MzRheIIC"
      },
      "source": [
        "### Limits of normalization\n",
        "If we normalize with minimum and maximum values, we may end up with our data squished too much because of outliers.\n",
        "\n",
        "Let's add some outliers into the data to see what happens..."
      ]
    },
    {
      "cell_type": "code",
      "execution_count": null,
      "metadata": {
        "id": "D1wmGOaXeIIC"
      },
      "outputs": [],
      "source": [
        "total_bill = tips_df['total_bill'].values\n",
        "total_bill = np.append(total_bill,[0.01, 200])"
      ]
    },
    {
      "cell_type": "markdown",
      "metadata": {
        "id": "fzIp0xaeeIIC"
      },
      "source": [
        "Let's see the histogram:"
      ]
    },
    {
      "cell_type": "code",
      "execution_count": null,
      "metadata": {
        "colab": {
          "base_uri": "https://localhost:8080/",
          "height": 430
        },
        "id": "GrUVthKGeIIC",
        "outputId": "c7744e59-d78b-4fc2-dba2-a6e86f13e88b"
      },
      "outputs": [
        {
          "data": {
            "image/png": "[encoded data removed]",
            "text/plain": [
              "<Figure size 640x480 with 1 Axes>"
            ]
          },
          "metadata": {},
          "output_type": "display_data"
        }
      ],
      "source": [
        "sns.histplot(total_bill)\n",
        "plt.show()"
      ]
    },
    {
      "cell_type": "markdown",
      "metadata": {
        "id": "S6yZWCYueIIC"
      },
      "source": [
        "And what about if we normalize?"
      ]
    },
    {
      "cell_type": "code",
      "execution_count": null,
      "metadata": {
        "colab": {
          "base_uri": "https://localhost:8080/",
          "height": 430
        },
        "id": "uNqeg3vL6naT",
        "outputId": "f92e1212-13cc-4ed8-d05f-0e743d38fd55"
      },
      "outputs": [
        {
          "data": {
            "image/png": "[encoded data removed]",
            "text/plain": [
              "<Figure size 640x480 with 1 Axes>"
            ]
          },
          "metadata": {},
          "output_type": "display_data"
        }
      ],
      "source": [
        "total_bill_norm = (total_bill - np.min(total_bill))/(np.max(total_bill) - np.min(total_bill))\n",
        "sns.histplot(total_bill_norm)\n",
        "plt.show()"
      ]
    },
    {
      "cell_type": "markdown",
      "metadata": {
        "id": "307Uq7V1eIID"
      },
      "source": [
        "So now we see that the data we really care about is only in the 0-0.2 range, all because one really large data point is included."
      ]
    }
  ],
  "metadata": {
    "colab": {
      "provenance": []
    },
    "kernelspec": {
      "display_name": "Python 3 (ipykernel)",
      "language": "python",
      "name": "python3"
    },
    "language_info": {
      "codemirror_mode": {
        "name": "ipython",
        "version": 3
      },
      "file_extension": ".py",
      "mimetype": "text/x-python",
      "name": "python",
      "nbconvert_exporter": "python",
      "pygments_lexer": "ipython3",
      "version": "3.9.7"
    }
  },
  "nbformat": 4,
  "nbformat_minor": 0
}